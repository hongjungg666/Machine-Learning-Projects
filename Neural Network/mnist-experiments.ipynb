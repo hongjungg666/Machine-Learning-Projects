{
 "cells": [
  {
   "cell_type": "markdown",
   "metadata": {},
   "source": [
    "# Neural Networks for MNIST dataset"
   ]
  },
  {
   "cell_type": "code",
   "execution_count": 1,
   "metadata": {},
   "outputs": [],
   "source": [
    "import argparse\n",
    "import torch\n",
    "import torch.nn as nn\n",
    "import torch.nn.functional as F\n",
    "import torch.optim as optim\n",
    "from torchvision import datasets, transforms\n",
    "from torch.utils.data import Dataset\n",
    "import numpy as np"
   ]
  },
  {
   "cell_type": "code",
   "execution_count": 2,
   "metadata": {},
   "outputs": [],
   "source": [
    "import matplotlib\n",
    "import matplotlib.pyplot as plt\n",
    "%matplotlib inline"
   ]
  },
  {
   "cell_type": "markdown",
   "metadata": {},
   "source": [
    "## Loading MNIST\n",
    "Here we load the dataset and create data loaders."
   ]
  },
  {
   "cell_type": "code",
   "execution_count": 3,
   "metadata": {},
   "outputs": [],
   "source": [
    "train_ds = datasets.MNIST('data', train=True, download=True,\n",
    "                          transform=transforms.Compose([\n",
    "                              transforms.ToTensor(),\n",
    "                              transforms.Normalize((0.1307,), (0.3081,))\n",
    "                          ]))\n",
    "test_ds = datasets.MNIST('data', train=False, download=True,\n",
    "                         transform=transforms.Compose([\n",
    "                             transforms.ToTensor(),\n",
    "                             transforms.Normalize((0.1307,), (0.3081,))\n",
    "                         ]))"
   ]
  },
  {
   "cell_type": "code",
   "execution_count": 4,
   "metadata": {},
   "outputs": [],
   "source": [
    "batch_size = 32\n",
    "# batch_size = 5 # for testing\n",
    "kwargs = {'num_workers': 1, 'pin_memory': True}\n",
    "\n",
    "train_loader = torch.utils.data.DataLoader(\n",
    "    train_ds, batch_size=batch_size, shuffle=True, **kwargs)\n",
    "test_loader = torch.utils.data.DataLoader(\n",
    "    test_ds, batch_size=batch_size, shuffle=False, **kwargs)"
   ]
  },
  {
   "cell_type": "markdown",
   "metadata": {},
   "source": [
    "## Looking at Examples"
   ]
  },
  {
   "cell_type": "code",
   "execution_count": 5,
   "metadata": {},
   "outputs": [],
   "source": [
    "train_dl = iter(train_loader)\n",
    "x, y = next(train_dl)"
   ]
  },
  {
   "cell_type": "code",
   "execution_count": 6,
   "metadata": {},
   "outputs": [
    {
     "name": "stdout",
     "output_type": "stream",
     "text": [
      "torch.Size([32, 1, 28, 28]) torch.Size([32])\n"
     ]
    }
   ],
   "source": [
    "print(x.shape, y.shape)"
   ]
  },
  {
   "cell_type": "markdown",
   "metadata": {},
   "source": [
    "Looking are images"
   ]
  },
  {
   "cell_type": "code",
   "execution_count": 7,
   "metadata": {},
   "outputs": [],
   "source": [
    "def show(img, title=None):\n",
    "    plt.imshow(img, interpolation='none', cmap=\"gray\")\n",
    "    if title is not None:\n",
    "        plt.title(title)"
   ]
  },
  {
   "cell_type": "code",
   "execution_count": 8,
   "metadata": {},
   "outputs": [
    {
     "data": {
      "text/plain": [
       "(32, 1, 28, 28)"
      ]
     },
     "execution_count": 8,
     "metadata": {},
     "output_type": "execute_result"
    }
   ],
   "source": [
    "# first from torch to numpy\n",
    "X = x.numpy()\n",
    "Y = y.numpy()\n",
    "X.shape"
   ]
  },
  {
   "cell_type": "code",
   "execution_count": 9,
   "metadata": {},
   "outputs": [
    {
     "data": {
      "image/png": "[encoded data removed]",
      "text/plain": [
       "<Figure size 432x288 with 1 Axes>"
      ]
     },
     "metadata": {
      "needs_background": "light"
     },
     "output_type": "display_data"
    }
   ],
   "source": [
    "show(X[0][0], Y[0])"
   ]
  },
  {
   "cell_type": "code",
   "execution_count": 10,
   "metadata": {},
   "outputs": [
    {
     "name": "stdout",
     "output_type": "stream",
     "text": [
      "[[-0.42421296 -0.42421296 -0.42421296 -0.42421296 -0.42421296 -0.42421296\n",
      "  -0.42421296 -0.42421296 -0.42421296 -0.42421296 -0.42421296 -0.42421296\n",
      "  -0.42421296 -0.42421296 -0.42421296 -0.42421296 -0.42421296 -0.42421296\n",
      "  -0.42421296 -0.42421296 -0.42421296 -0.42421296 -0.42421296 -0.42421296\n",
      "  -0.42421296 -0.42421296 -0.42421296 -0.42421296]\n",
      " [-0.42421296 -0.42421296 -0.42421296 -0.42421296 -0.42421296 -0.42421296\n",
      "  -0.42421296 -0.42421296 -0.42421296 -0.42421296 -0.42421296 -0.42421296\n",
      "  -0.42421296 -0.42421296 -0.42421296 -0.42421296 -0.42421296 -0.42421296\n",
      "  -0.42421296 -0.42421296 -0.42421296 -0.42421296 -0.42421296 -0.42421296\n",
      "  -0.42421296 -0.42421296 -0.42421296 -0.42421296]\n",
      " [-0.42421296 -0.42421296 -0.42421296 -0.42421296 -0.42421296 -0.42421296\n",
      "  -0.42421296 -0.42421296 -0.42421296 -0.42421296 -0.42421296 -0.42421296\n",
      "  -0.42421296 -0.42421296 -0.42421296 -0.42421296 -0.42421296 -0.42421296\n",
      "  -0.42421296 -0.42421296 -0.42421296 -0.42421296 -0.42421296 -0.42421296\n",
      "  -0.42421296 -0.42421296 -0.42421296 -0.42421296]\n",
      " [-0.42421296 -0.42421296 -0.42421296 -0.42421296 -0.42421296 -0.42421296\n",
      "  -0.42421296 -0.42421296 -0.42421296 -0.42421296 -0.42421296 -0.42421296\n",
      "  -0.42421296 -0.42421296 -0.42421296 -0.42421296 -0.42421296 -0.42421296\n",
      "  -0.42421296 -0.42421296 -0.42421296 -0.42421296 -0.42421296 -0.42421296\n",
      "  -0.42421296 -0.42421296 -0.42421296 -0.42421296]]\n"
     ]
    }
   ],
   "source": [
    "print(X[0][0][:4][:4])"
   ]
  },
  {
   "cell_type": "markdown",
   "metadata": {},
   "source": [
    "## Feed Forward Neural Network"
   ]
  },
  {
   "cell_type": "code",
   "execution_count": 11,
   "metadata": {},
   "outputs": [],
   "source": [
    "# for the number of neurons in the hidden unit\n",
    "def get_model(M=300):\n",
    "    net = nn.Sequential(nn.Linear(28*28, M),\n",
    "                        nn.ReLU(),\n",
    "                        nn.Linear(M, 10))\n",
    "    return net  # .cuda()"
   ]
  },
  {
   "cell_type": "code",
   "execution_count": 12,
   "metadata": {},
   "outputs": [],
   "source": [
    "def train_model(train_loader, test_loader, num_epochs, model, optimizer):\n",
    "    model.train()\n",
    "    for epoch in range(num_epochs):\n",
    "        sum_loss = 0.0\n",
    "        total = 0\n",
    "        for i, (images, labels) in enumerate(train_loader):\n",
    "            batch = images.shape[0]  # size of the batch\n",
    "            # Convert torch tensor to Variable, change shape of the input\n",
    "            images = images.view(-1, 28*28)  # .cuda()\n",
    "\n",
    "            # Forward + Backward + Optimize\n",
    "            optimizer.zero_grad()  # zero the gradient buffer\n",
    "            outputs = model(images)\n",
    "            loss = F.cross_entropy(outputs, labels)\n",
    "            loss.backward()\n",
    "            optimizer.step()\n",
    "\n",
    "            total += batch\n",
    "            sum_loss += batch * loss.item()\n",
    "\n",
    "        train_loss = sum_loss/total\n",
    "        print('Epoch [%d/%d], Loss: %.4f' % (epoch+1, num_epochs, train_loss))\n",
    "        val_acc, val_loss = model_accuracy_loss(model, test_loader)\n",
    "        print('Epoch [%d/%d], Valid Accuracy: %.4f, Valid Loss: %.4f' %\n",
    "              (epoch+1, num_epochs, val_acc, val_loss))\n",
    "    return val_acc, val_loss, train_loss"
   ]
  },
  {
   "cell_type": "code",
   "execution_count": 13,
   "metadata": {},
   "outputs": [],
   "source": [
    "def model_accuracy_loss(model, test_loader):\n",
    "    model.eval()\n",
    "    correct = 0\n",
    "    sum_loss = 0.0\n",
    "    total = 0\n",
    "    for images, labels in test_loader:\n",
    "        images = images.view(-1, 28*28)  # .cuda()\n",
    "        outputs = model(images)\n",
    "        _, pred = torch.max(outputs.data, 1)\n",
    "        loss = F.cross_entropy(outputs, labels)\n",
    "        sum_loss += labels.size(0)*loss.item()\n",
    "        total += labels.size(0)\n",
    "        correct += pred.eq(labels.data).sum().item()\n",
    "    return 100 * correct / total, sum_loss / total"
   ]
  },
  {
   "cell_type": "code",
   "execution_count": 14,
   "metadata": {},
   "outputs": [
    {
     "data": {
      "text/plain": [
       "(8.56, 2.3117655239105224)"
      ]
     },
     "execution_count": 14,
     "metadata": {},
     "output_type": "execute_result"
    }
   ],
   "source": [
    "net = get_model()\n",
    "learning_rate = 0.01\n",
    "optimizer = optim.Adam(net.parameters(), lr=learning_rate)\n",
    "model_accuracy_loss(net, test_loader)"
   ]
  },
  {
   "cell_type": "code",
   "execution_count": 15,
   "metadata": {},
   "outputs": [
    {
     "name": "stdout",
     "output_type": "stream",
     "text": [
      "Epoch [1/2], Loss: 0.3546\n",
      "Epoch [1/2], Valid Accuracy: 91.8400, Valid Loss: 0.3366\n",
      "Epoch [2/2], Loss: 0.2736\n",
      "Epoch [2/2], Valid Accuracy: 93.1200, Valid Loss: 0.2947\n"
     ]
    }
   ],
   "source": [
    "val_acc, val_loss, train_loss = train_model(\n",
    "    train_loader, test_loader, num_epochs=2, model=net, optimizer=optimizer)"
   ]
  },
  {
   "cell_type": "markdown",
   "metadata": {},
   "source": [
    "## Models with L2 regularization\n",
    "To add L2 regularization use the `weight_decay` argument on the optimizer"
   ]
  },
  {
   "cell_type": "code",
   "execution_count": 16,
   "metadata": {},
   "outputs": [],
   "source": [
    "optimizer = optim.Adam(net.parameters(), lr=learning_rate, weight_decay=0.01)"
   ]
  },
  {
   "cell_type": "markdown",
   "metadata": {},
   "source": [
    "## Models with Dropout"
   ]
  },
  {
   "cell_type": "code",
   "execution_count": 17,
   "metadata": {},
   "outputs": [],
   "source": [
    "def get_model_v2(M=300, p=0):\n",
    "    modules = []\n",
    "    modules.append(nn.Linear(28*28, M))\n",
    "    modules.append(nn.ReLU())\n",
    "    if p > 0:\n",
    "        modules.append(nn.Dropout(p))\n",
    "    modules.append(nn.Linear(M, 10))\n",
    "    return nn.Sequential(*modules)  # .cuda()"
   ]
  },
  {
   "cell_type": "code",
   "execution_count": 18,
   "metadata": {},
   "outputs": [],
   "source": [
    "net = get_model_v2(M=300, p=0.1)\n",
    "optimizer = optim.Adam(net.parameters(), lr=0.01)"
   ]
  },
  {
   "cell_type": "code",
   "execution_count": 19,
   "metadata": {},
   "outputs": [
    {
     "name": "stdout",
     "output_type": "stream",
     "text": [
      "Epoch [1/4], Loss: 0.4125\n",
      "Epoch [1/4], Valid Accuracy: 92.8100, Valid Loss: 0.2640\n",
      "Epoch [2/4], Loss: 0.2663\n",
      "Epoch [2/4], Valid Accuracy: 93.8400, Valid Loss: 0.2821\n",
      "Epoch [3/4], Loss: 0.2670\n",
      "Epoch [3/4], Valid Accuracy: 93.6900, Valid Loss: 0.2482\n",
      "Epoch [4/4], Loss: 0.2422\n",
      "Epoch [4/4], Valid Accuracy: 93.9200, Valid Loss: 0.2932\n"
     ]
    },
    {
     "data": {
      "text/plain": [
       "(93.92, 0.29324834769908337, 0.24215630946553623)"
      ]
     },
     "execution_count": 19,
     "metadata": {},
     "output_type": "execute_result"
    }
   ],
   "source": [
    "train_model(train_loader, test_loader, num_epochs=4,\n",
    "            model=net, optimizer=optimizer)"
   ]
  },
  {
   "cell_type": "markdown",
   "metadata": {},
   "source": [
    "## Exp 1: Learning Rate"
   ]
  },
  {
   "cell_type": "code",
   "execution_count": 23,
   "metadata": {},
   "outputs": [],
   "source": [
    "lr = [1, 0.1, 0.01, 0.001, 0.0001, 0.00001]"
   ]
  },
  {
   "cell_type": "code",
   "execution_count": 27,
   "metadata": {},
   "outputs": [
    {
     "name": "stdout",
     "output_type": "stream",
     "text": [
      "Epoch [1/10], Loss: 49.2045\n",
      "Epoch [1/10], Valid Accuracy: 11.3800, Valid Loss: 6.8345\n",
      "Epoch [2/10], Loss: 3.5713\n",
      "Epoch [2/10], Valid Accuracy: 10.3000, Valid Loss: 6.8140\n",
      "Epoch [3/10], Loss: 2.4052\n",
      "Epoch [3/10], Valid Accuracy: 9.8500, Valid Loss: 6.7849\n",
      "Epoch [4/10], Loss: 2.4071\n",
      "Epoch [4/10], Valid Accuracy: 10.1200, Valid Loss: 6.8661\n",
      "Epoch [5/10], Loss: 2.4165\n",
      "Epoch [5/10], Valid Accuracy: 10.3200, Valid Loss: 6.8339\n",
      "Epoch [6/10], Loss: 2.4069\n",
      "Epoch [6/10], Valid Accuracy: 9.8300, Valid Loss: 6.8034\n",
      "Epoch [7/10], Loss: 2.4113\n",
      "Epoch [7/10], Valid Accuracy: 11.3800, Valid Loss: 6.8712\n",
      "Epoch [8/10], Loss: 2.4074\n",
      "Epoch [8/10], Valid Accuracy: 11.3800, Valid Loss: 6.9607\n",
      "Epoch [9/10], Loss: 2.4077\n",
      "Epoch [9/10], Valid Accuracy: 9.8300, Valid Loss: 6.8618\n",
      "Epoch [10/10], Loss: 2.4077\n",
      "Epoch [10/10], Valid Accuracy: 10.1200, Valid Loss: 6.9777\n",
      "Epoch [1/10], Loss: 2.3571\n",
      "Epoch [1/10], Valid Accuracy: 27.3700, Valid Loss: 2.0225\n",
      "Epoch [2/10], Loss: 2.2339\n",
      "Epoch [2/10], Valid Accuracy: 11.3600, Valid Loss: 2.3211\n",
      "Epoch [3/10], Loss: 2.3157\n",
      "Epoch [3/10], Valid Accuracy: 9.8000, Valid Loss: 2.3454\n",
      "Epoch [4/10], Loss: 2.3131\n",
      "Epoch [4/10], Valid Accuracy: 9.8200, Valid Loss: 2.3291\n",
      "Epoch [5/10], Loss: 2.3141\n",
      "Epoch [5/10], Valid Accuracy: 10.1000, Valid Loss: 2.3243\n",
      "Epoch [6/10], Loss: 2.3136\n",
      "Epoch [6/10], Valid Accuracy: 10.3200, Valid Loss: 2.3235\n",
      "Epoch [7/10], Loss: 2.3132\n",
      "Epoch [7/10], Valid Accuracy: 9.7500, Valid Loss: 2.3278\n",
      "Epoch [8/10], Loss: 2.3138\n",
      "Epoch [8/10], Valid Accuracy: 11.3600, Valid Loss: 2.3240\n",
      "Epoch [9/10], Loss: 2.3134\n",
      "Epoch [9/10], Valid Accuracy: 11.3600, Valid Loss: 2.3268\n",
      "Epoch [10/10], Loss: 2.3140\n",
      "Epoch [10/10], Valid Accuracy: 9.8000, Valid Loss: 2.3316\n",
      "Epoch [1/10], Loss: 0.3453\n",
      "Epoch [1/10], Valid Accuracy: 92.9900, Valid Loss: 0.2646\n",
      "Epoch [2/10], Loss: 0.2618\n",
      "Epoch [2/10], Valid Accuracy: 94.1800, Valid Loss: 0.2607\n",
      "Epoch [3/10], Loss: 0.2506\n",
      "Epoch [3/10], Valid Accuracy: 93.0700, Valid Loss: 0.2826\n",
      "Epoch [4/10], Loss: 0.2337\n",
      "Epoch [4/10], Valid Accuracy: 94.3000, Valid Loss: 0.2386\n",
      "Epoch [5/10], Loss: 0.2303\n",
      "Epoch [5/10], Valid Accuracy: 93.1300, Valid Loss: 0.3063\n",
      "Epoch [6/10], Loss: 0.2195\n",
      "Epoch [6/10], Valid Accuracy: 94.1000, Valid Loss: 0.2707\n",
      "Epoch [7/10], Loss: 0.2240\n",
      "Epoch [7/10], Valid Accuracy: 93.1300, Valid Loss: 0.3553\n",
      "Epoch [8/10], Loss: 0.2149\n",
      "Epoch [8/10], Valid Accuracy: 94.4300, Valid Loss: 0.2522\n",
      "Epoch [9/10], Loss: 0.2167\n",
      "Epoch [9/10], Valid Accuracy: 94.7400, Valid Loss: 0.3092\n",
      "Epoch [10/10], Loss: 0.2183\n",
      "Epoch [10/10], Valid Accuracy: 93.2600, Valid Loss: 0.3296\n",
      "Epoch [1/10], Loss: 0.2027\n",
      "Epoch [1/10], Valid Accuracy: 96.1500, Valid Loss: 0.1217\n",
      "Epoch [2/10], Loss: 0.0879\n",
      "Epoch [2/10], Valid Accuracy: 96.9700, Valid Loss: 0.0957\n",
      "Epoch [3/10], Loss: 0.0643\n",
      "Epoch [3/10], Valid Accuracy: 97.9100, Valid Loss: 0.0710\n",
      "Epoch [4/10], Loss: 0.0466\n",
      "Epoch [4/10], Valid Accuracy: 97.5300, Valid Loss: 0.0853\n",
      "Epoch [5/10], Loss: 0.0409\n",
      "Epoch [5/10], Valid Accuracy: 97.6700, Valid Loss: 0.0886\n",
      "Epoch [6/10], Loss: 0.0334\n",
      "Epoch [6/10], Valid Accuracy: 97.6500, Valid Loss: 0.0974\n",
      "Epoch [7/10], Loss: 0.0285\n",
      "Epoch [7/10], Valid Accuracy: 97.9300, Valid Loss: 0.0861\n",
      "Epoch [8/10], Loss: 0.0252\n",
      "Epoch [8/10], Valid Accuracy: 98.0400, Valid Loss: 0.0853\n",
      "Epoch [9/10], Loss: 0.0230\n",
      "Epoch [9/10], Valid Accuracy: 97.4700, Valid Loss: 0.1154\n",
      "Epoch [10/10], Loss: 0.0213\n",
      "Epoch [10/10], Valid Accuracy: 97.7800, Valid Loss: 0.1156\n",
      "Epoch [1/10], Loss: 0.4061\n",
      "Epoch [1/10], Valid Accuracy: 93.6900, Valid Loss: 0.2251\n",
      "Epoch [2/10], Loss: 0.1977\n",
      "Epoch [2/10], Valid Accuracy: 95.2200, Valid Loss: 0.1614\n",
      "Epoch [3/10], Loss: 0.1438\n",
      "Epoch [3/10], Valid Accuracy: 96.2800, Valid Loss: 0.1277\n",
      "Epoch [4/10], Loss: 0.1120\n",
      "Epoch [4/10], Valid Accuracy: 96.8200, Valid Loss: 0.1104\n",
      "Epoch [5/10], Loss: 0.0912\n",
      "Epoch [5/10], Valid Accuracy: 97.3000, Valid Loss: 0.0938\n",
      "Epoch [6/10], Loss: 0.0756\n",
      "Epoch [6/10], Valid Accuracy: 97.3100, Valid Loss: 0.0915\n",
      "Epoch [7/10], Loss: 0.0643\n",
      "Epoch [7/10], Valid Accuracy: 97.6300, Valid Loss: 0.0792\n",
      "Epoch [8/10], Loss: 0.0548\n",
      "Epoch [8/10], Valid Accuracy: 97.8200, Valid Loss: 0.0746\n",
      "Epoch [9/10], Loss: 0.0472\n",
      "Epoch [9/10], Valid Accuracy: 98.0000, Valid Loss: 0.0704\n",
      "Epoch [10/10], Loss: 0.0406\n",
      "Epoch [10/10], Valid Accuracy: 98.0200, Valid Loss: 0.0661\n",
      "Epoch [1/10], Loss: 1.1100\n",
      "Epoch [1/10], Valid Accuracy: 87.6100, Valid Loss: 0.5688\n",
      "Epoch [2/10], Loss: 0.4801\n",
      "Epoch [2/10], Valid Accuracy: 89.9100, Valid Loss: 0.3924\n",
      "Epoch [3/10], Loss: 0.3749\n",
      "Epoch [3/10], Valid Accuracy: 90.9800, Valid Loss: 0.3319\n",
      "Epoch [4/10], Loss: 0.3290\n",
      "Epoch [4/10], Valid Accuracy: 91.6600, Valid Loss: 0.3011\n",
      "Epoch [5/10], Loss: 0.3012\n",
      "Epoch [5/10], Valid Accuracy: 92.0800, Valid Loss: 0.2794\n",
      "Epoch [6/10], Loss: 0.2809\n",
      "Epoch [6/10], Valid Accuracy: 92.5700, Valid Loss: 0.2636\n",
      "Epoch [7/10], Loss: 0.2646\n",
      "Epoch [7/10], Valid Accuracy: 92.9100, Valid Loss: 0.2499\n",
      "Epoch [8/10], Loss: 0.2509\n",
      "Epoch [8/10], Valid Accuracy: 93.2100, Valid Loss: 0.2393\n",
      "Epoch [9/10], Loss: 0.2388\n",
      "Epoch [9/10], Valid Accuracy: 93.6700, Valid Loss: 0.2289\n",
      "Epoch [10/10], Loss: 0.2279\n",
      "Epoch [10/10], Valid Accuracy: 93.8300, Valid Loss: 0.2199\n",
      "CPU times: user 5min 52s, sys: 32.7 s, total: 6min 25s\n",
      "Wall time: 7min 34s\n"
     ]
    }
   ],
   "source": [
    "% % time\n",
    "results = []\n",
    "for learning_rate in lr:\n",
    "    net = get_model()\n",
    "    optimizer = optim.Adam(net.parameters(), lr=learning_rate)\n",
    "    val_acc, val_loss, train_loss = train_model(\n",
    "        train_loader, test_loader, num_epochs=10, model=net, optimizer=optimizer)\n",
    "    results.append((learning_rate, val_acc, val_loss, train_loss))"
   ]
  },
  {
   "cell_type": "code",
   "execution_count": 30,
   "metadata": {},
   "outputs": [
    {
     "data": {
      "text/plain": [
       "[(1, 10.12, 6.977697636032104, 2.4077480761210124),\n",
       " (0.1, 9.8, 2.331640591049194, 2.3139865736643475),\n",
       " (0.01, 93.26, 0.3295981390826404, 0.218337464263166),\n",
       " (0.001, 97.78, 0.11555676937649113, 0.02127944609490769),\n",
       " (0.0001, 98.02, 0.06614703410156071, 0.0406049730475992),\n",
       " (1e-05, 93.83, 0.21990738485455513, 0.22792399299144744)]"
      ]
     },
     "execution_count": 30,
     "metadata": {},
     "output_type": "execute_result"
    }
   ],
   "source": [
    "results"
   ]
  },
  {
   "cell_type": "markdown",
   "metadata": {},
   "source": [
    "### Interpolate between the best two values"
   ]
  },
  {
   "cell_type": "code",
   "execution_count": 20,
   "metadata": {},
   "outputs": [],
   "source": [
    "lr2 = [0.0001, 0.0004, 0.0008, 0.001]"
   ]
  },
  {
   "cell_type": "code",
   "execution_count": 27,
   "metadata": {
    "scrolled": true
   },
   "outputs": [
    {
     "name": "stdout",
     "output_type": "stream",
     "text": [
      "Epoch [1/10], Loss: 0.4081\n",
      "Epoch [1/10], Valid Accuracy: 93.0300, Valid Loss: 0.2319\n",
      "Epoch [2/10], Loss: 0.1981\n",
      "Epoch [2/10], Valid Accuracy: 95.4200, Valid Loss: 0.1619\n",
      "Epoch [3/10], Loss: 0.1446\n",
      "Epoch [3/10], Valid Accuracy: 96.2700, Valid Loss: 0.1294\n",
      "Epoch [4/10], Loss: 0.1130\n",
      "Epoch [4/10], Valid Accuracy: 96.8400, Valid Loss: 0.1104\n",
      "Epoch [5/10], Loss: 0.0917\n",
      "Epoch [5/10], Valid Accuracy: 97.1600, Valid Loss: 0.0946\n",
      "Epoch [6/10], Loss: 0.0765\n",
      "Epoch [6/10], Valid Accuracy: 97.3800, Valid Loss: 0.0877\n",
      "Epoch [7/10], Loss: 0.0645\n",
      "Epoch [7/10], Valid Accuracy: 97.5000, Valid Loss: 0.0801\n",
      "Epoch [8/10], Loss: 0.0552\n",
      "Epoch [8/10], Valid Accuracy: 97.8100, Valid Loss: 0.0740\n",
      "Epoch [9/10], Loss: 0.0473\n",
      "Epoch [9/10], Valid Accuracy: 97.7900, Valid Loss: 0.0696\n",
      "Epoch [10/10], Loss: 0.0408\n",
      "Epoch [10/10], Valid Accuracy: 97.8500, Valid Loss: 0.0660\n",
      "Epoch [1/10], Loss: 0.2499\n",
      "Epoch [1/10], Valid Accuracy: 96.3900, Valid Loss: 0.1263\n",
      "Epoch [2/10], Loss: 0.1050\n",
      "Epoch [2/10], Valid Accuracy: 97.4000, Valid Loss: 0.0829\n",
      "Epoch [3/10], Loss: 0.0692\n",
      "Epoch [3/10], Valid Accuracy: 97.6100, Valid Loss: 0.0764\n",
      "Epoch [4/10], Loss: 0.0509\n",
      "Epoch [4/10], Valid Accuracy: 97.8800, Valid Loss: 0.0718\n",
      "Epoch [5/10], Loss: 0.0383\n",
      "Epoch [5/10], Valid Accuracy: 97.9500, Valid Loss: 0.0679\n",
      "Epoch [6/10], Loss: 0.0291\n",
      "Epoch [6/10], Valid Accuracy: 97.9100, Valid Loss: 0.0679\n",
      "Epoch [7/10], Loss: 0.0222\n",
      "Epoch [7/10], Valid Accuracy: 97.7500, Valid Loss: 0.0732\n",
      "Epoch [8/10], Loss: 0.0184\n",
      "Epoch [8/10], Valid Accuracy: 97.9900, Valid Loss: 0.0696\n",
      "Epoch [9/10], Loss: 0.0139\n",
      "Epoch [9/10], Valid Accuracy: 97.9700, Valid Loss: 0.0678\n",
      "Epoch [10/10], Loss: 0.0122\n",
      "Epoch [10/10], Valid Accuracy: 97.6500, Valid Loss: 0.0844\n",
      "Epoch [1/10], Loss: 0.2077\n",
      "Epoch [1/10], Valid Accuracy: 96.5300, Valid Loss: 0.1100\n",
      "Epoch [2/10], Loss: 0.0893\n",
      "Epoch [2/10], Valid Accuracy: 97.1700, Valid Loss: 0.0956\n",
      "Epoch [3/10], Loss: 0.0606\n",
      "Epoch [3/10], Valid Accuracy: 97.7900, Valid Loss: 0.0703\n",
      "Epoch [4/10], Loss: 0.0453\n",
      "Epoch [4/10], Valid Accuracy: 97.9100, Valid Loss: 0.0756\n",
      "Epoch [5/10], Loss: 0.0366\n",
      "Epoch [5/10], Valid Accuracy: 98.0000, Valid Loss: 0.0727\n",
      "Epoch [6/10], Loss: 0.0290\n",
      "Epoch [6/10], Valid Accuracy: 97.9300, Valid Loss: 0.0769\n",
      "Epoch [7/10], Loss: 0.0243\n",
      "Epoch [7/10], Valid Accuracy: 98.1100, Valid Loss: 0.0700\n",
      "Epoch [8/10], Loss: 0.0212\n",
      "Epoch [8/10], Valid Accuracy: 98.0400, Valid Loss: 0.0751\n",
      "Epoch [9/10], Loss: 0.0178\n",
      "Epoch [9/10], Valid Accuracy: 98.2700, Valid Loss: 0.0715\n",
      "Epoch [10/10], Loss: 0.0159\n",
      "Epoch [10/10], Valid Accuracy: 98.0400, Valid Loss: 0.0842\n",
      "Epoch [1/10], Loss: 0.2004\n",
      "Epoch [1/10], Valid Accuracy: 96.7100, Valid Loss: 0.1054\n",
      "Epoch [2/10], Loss: 0.0900\n",
      "Epoch [2/10], Valid Accuracy: 97.3900, Valid Loss: 0.0890\n",
      "Epoch [3/10], Loss: 0.0633\n",
      "Epoch [3/10], Valid Accuracy: 97.4400, Valid Loss: 0.0883\n",
      "Epoch [4/10], Loss: 0.0452\n",
      "Epoch [4/10], Valid Accuracy: 97.8500, Valid Loss: 0.0805\n",
      "Epoch [5/10], Loss: 0.0374\n",
      "Epoch [5/10], Valid Accuracy: 97.6400, Valid Loss: 0.0892\n",
      "Epoch [6/10], Loss: 0.0331\n",
      "Epoch [6/10], Valid Accuracy: 97.7900, Valid Loss: 0.0886\n",
      "Epoch [7/10], Loss: 0.0269\n",
      "Epoch [7/10], Valid Accuracy: 97.8300, Valid Loss: 0.0879\n",
      "Epoch [8/10], Loss: 0.0250\n",
      "Epoch [8/10], Valid Accuracy: 98.0600, Valid Loss: 0.0836\n",
      "Epoch [9/10], Loss: 0.0238\n",
      "Epoch [9/10], Valid Accuracy: 98.0000, Valid Loss: 0.0888\n",
      "Epoch [10/10], Loss: 0.0192\n",
      "Epoch [10/10], Valid Accuracy: 97.4400, Valid Loss: 0.1211\n",
      "CPU times: user 3min 59s, sys: 23.2 s, total: 4min 23s\n",
      "Wall time: 5min 9s\n"
     ]
    }
   ],
   "source": [
    "% % time\n",
    "lr_results = []\n",
    "for learning_rate in lr2:\n",
    "    net = get_model()\n",
    "    optimizer = optim.Adam(net.parameters(), lr=learning_rate)\n",
    "    val_acc, val_loss, train_loss = train_model(\n",
    "        train_loader, test_loader, num_epochs=10, model=net, optimizer=optimizer)\n",
    "    lr_results.append((learning_rate, val_acc, val_loss, train_loss))"
   ]
  },
  {
   "cell_type": "code",
   "execution_count": 28,
   "metadata": {},
   "outputs": [
    {
     "data": {
      "text/plain": [
       "[(0.0001, 97.85, 0.06601504220291972, 0.040848820085047435),\n",
       " (0.0004, 97.65, 0.08438532228421536, 0.012245486892579356),\n",
       " (0.0008, 98.04, 0.08415286576391937, 0.015939184628241614),\n",
       " (0.001, 97.44, 0.12110307909450603, 0.01924213402531065)]"
      ]
     },
     "execution_count": 28,
     "metadata": {},
     "output_type": "execute_result"
    }
   ],
   "source": [
    "lr_results"
   ]
  },
  {
   "cell_type": "markdown",
   "metadata": {},
   "source": [
    "<li>By interpolation, the best parameter for learning rate is around 0.0001"
   ]
  },
  {
   "cell_type": "markdown",
   "metadata": {},
   "source": [
    "## Exp2: Hidden Layer"
   ]
  },
  {
   "cell_type": "code",
   "execution_count": 26,
   "metadata": {},
   "outputs": [
    {
     "name": "stdout",
     "output_type": "stream",
     "text": [
      "Epoch [1/10], Loss: 0.5556\n",
      "Epoch [1/10], Valid Accuracy: 87.3600, Valid Loss: 0.4353\n",
      "Epoch [2/10], Loss: 0.4537\n",
      "Epoch [2/10], Valid Accuracy: 86.8400, Valid Loss: 0.4658\n",
      "Epoch [3/10], Loss: 0.4559\n",
      "Epoch [3/10], Valid Accuracy: 86.6300, Valid Loss: 0.4590\n",
      "Epoch [4/10], Loss: 0.4382\n",
      "Epoch [4/10], Valid Accuracy: 86.3100, Valid Loss: 0.4687\n",
      "Epoch [5/10], Loss: 0.4396\n",
      "Epoch [5/10], Valid Accuracy: 88.4200, Valid Loss: 0.4115\n",
      "Epoch [6/10], Loss: 0.4389\n",
      "Epoch [6/10], Valid Accuracy: 89.4900, Valid Loss: 0.4020\n",
      "Epoch [7/10], Loss: 0.4349\n",
      "Epoch [7/10], Valid Accuracy: 89.2100, Valid Loss: 0.3953\n",
      "Epoch [8/10], Loss: 0.4385\n",
      "Epoch [8/10], Valid Accuracy: 88.6500, Valid Loss: 0.4208\n",
      "Epoch [9/10], Loss: 0.4366\n",
      "Epoch [9/10], Valid Accuracy: 88.4400, Valid Loss: 0.4209\n",
      "Epoch [10/10], Loss: 0.4309\n",
      "Epoch [10/10], Valid Accuracy: 88.9800, Valid Loss: 0.3934\n",
      "Epoch [1/10], Loss: 0.3486\n",
      "Epoch [1/10], Valid Accuracy: 92.0400, Valid Loss: 0.2860\n",
      "Epoch [2/10], Loss: 0.2832\n",
      "Epoch [2/10], Valid Accuracy: 92.8700, Valid Loss: 0.2681\n",
      "Epoch [3/10], Loss: 0.2699\n",
      "Epoch [3/10], Valid Accuracy: 93.7700, Valid Loss: 0.2637\n",
      "Epoch [4/10], Loss: 0.2642\n",
      "Epoch [4/10], Valid Accuracy: 93.5700, Valid Loss: 0.2650\n",
      "Epoch [5/10], Loss: 0.2556\n",
      "Epoch [5/10], Valid Accuracy: 92.4300, Valid Loss: 0.2874\n",
      "Epoch [6/10], Loss: 0.2579\n",
      "Epoch [6/10], Valid Accuracy: 93.0200, Valid Loss: 0.2894\n",
      "Epoch [7/10], Loss: 0.2479\n",
      "Epoch [7/10], Valid Accuracy: 92.8600, Valid Loss: 0.3192\n",
      "Epoch [8/10], Loss: 0.2466\n",
      "Epoch [8/10], Valid Accuracy: 93.4600, Valid Loss: 0.3148\n",
      "Epoch [9/10], Loss: 0.2471\n",
      "Epoch [9/10], Valid Accuracy: 93.4900, Valid Loss: 0.2952\n",
      "Epoch [10/10], Loss: 0.2431\n",
      "Epoch [10/10], Valid Accuracy: 93.0600, Valid Loss: 0.3360\n",
      "Epoch [1/10], Loss: 0.3280\n",
      "Epoch [1/10], Valid Accuracy: 93.9000, Valid Loss: 0.2384\n",
      "Epoch [2/10], Loss: 0.2730\n",
      "Epoch [2/10], Valid Accuracy: 91.3500, Valid Loss: 0.3623\n",
      "Epoch [3/10], Loss: 0.2486\n",
      "Epoch [3/10], Valid Accuracy: 93.8400, Valid Loss: 0.2832\n",
      "Epoch [4/10], Loss: 0.2441\n",
      "Epoch [4/10], Valid Accuracy: 93.4000, Valid Loss: 0.2648\n",
      "Epoch [5/10], Loss: 0.2316\n",
      "Epoch [5/10], Valid Accuracy: 93.7100, Valid Loss: 0.2654\n",
      "Epoch [6/10], Loss: 0.2279\n",
      "Epoch [6/10], Valid Accuracy: 94.6200, Valid Loss: 0.2604\n",
      "Epoch [7/10], Loss: 0.2216\n",
      "Epoch [7/10], Valid Accuracy: 93.5200, Valid Loss: 0.3075\n",
      "Epoch [8/10], Loss: 0.2179\n",
      "Epoch [8/10], Valid Accuracy: 94.5000, Valid Loss: 0.3095\n",
      "Epoch [9/10], Loss: 0.2230\n",
      "Epoch [9/10], Valid Accuracy: 93.5700, Valid Loss: 0.3620\n",
      "Epoch [10/10], Loss: 0.2145\n",
      "Epoch [10/10], Valid Accuracy: 93.5700, Valid Loss: 0.3198\n",
      "Epoch [1/10], Loss: 0.3440\n",
      "Epoch [1/10], Valid Accuracy: 93.9800, Valid Loss: 0.2409\n",
      "Epoch [2/10], Loss: 0.2616\n",
      "Epoch [2/10], Valid Accuracy: 93.1200, Valid Loss: 0.3047\n",
      "Epoch [3/10], Loss: 0.2536\n",
      "Epoch [3/10], Valid Accuracy: 93.8100, Valid Loss: 0.2806\n",
      "Epoch [4/10], Loss: 0.2410\n",
      "Epoch [4/10], Valid Accuracy: 94.1700, Valid Loss: 0.2808\n",
      "Epoch [5/10], Loss: 0.2329\n",
      "Epoch [5/10], Valid Accuracy: 94.6500, Valid Loss: 0.2666\n",
      "Epoch [6/10], Loss: 0.2248\n",
      "Epoch [6/10], Valid Accuracy: 94.7200, Valid Loss: 0.2419\n",
      "Epoch [7/10], Loss: 0.2320\n",
      "Epoch [7/10], Valid Accuracy: 93.0800, Valid Loss: 0.3311\n",
      "Epoch [8/10], Loss: 0.2167\n",
      "Epoch [8/10], Valid Accuracy: 94.1300, Valid Loss: 0.2924\n",
      "Epoch [9/10], Loss: 0.2209\n",
      "Epoch [9/10], Valid Accuracy: 93.6200, Valid Loss: 0.3175\n",
      "Epoch [10/10], Loss: 0.2140\n",
      "Epoch [10/10], Valid Accuracy: 94.7900, Valid Loss: 0.2860\n",
      "Epoch [1/10], Loss: 0.3679\n",
      "Epoch [1/10], Valid Accuracy: 92.3700, Valid Loss: 0.2761\n",
      "Epoch [2/10], Loss: 0.2810\n",
      "Epoch [2/10], Valid Accuracy: 94.2800, Valid Loss: 0.2396\n",
      "Epoch [3/10], Loss: 0.2527\n",
      "Epoch [3/10], Valid Accuracy: 93.1100, Valid Loss: 0.3430\n",
      "Epoch [4/10], Loss: 0.2535\n",
      "Epoch [4/10], Valid Accuracy: 93.8400, Valid Loss: 0.2647\n",
      "Epoch [5/10], Loss: 0.2374\n",
      "Epoch [5/10], Valid Accuracy: 93.5100, Valid Loss: 0.3583\n",
      "Epoch [6/10], Loss: 0.2406\n",
      "Epoch [6/10], Valid Accuracy: 93.6900, Valid Loss: 0.2853\n",
      "Epoch [7/10], Loss: 0.2284\n",
      "Epoch [7/10], Valid Accuracy: 94.0800, Valid Loss: 0.2798\n",
      "Epoch [8/10], Loss: 0.2280\n",
      "Epoch [8/10], Valid Accuracy: 94.0400, Valid Loss: 0.3001\n",
      "Epoch [9/10], Loss: 0.2200\n",
      "Epoch [9/10], Valid Accuracy: 94.4500, Valid Loss: 0.3031\n",
      "Epoch [10/10], Loss: 0.2156\n",
      "Epoch [10/10], Valid Accuracy: 94.1400, Valid Loss: 0.3738\n",
      "Epoch [1/10], Loss: 0.4054\n",
      "Epoch [1/10], Valid Accuracy: 92.2600, Valid Loss: 0.3168\n",
      "Epoch [2/10], Loss: 0.2796\n",
      "Epoch [2/10], Valid Accuracy: 93.8400, Valid Loss: 0.2859\n",
      "Epoch [3/10], Loss: 0.2561\n",
      "Epoch [3/10], Valid Accuracy: 94.1200, Valid Loss: 0.2700\n",
      "Epoch [4/10], Loss: 0.2434\n",
      "Epoch [4/10], Valid Accuracy: 93.7000, Valid Loss: 0.2867\n",
      "Epoch [5/10], Loss: 0.2340\n",
      "Epoch [5/10], Valid Accuracy: 93.5600, Valid Loss: 0.3002\n",
      "Epoch [6/10], Loss: 0.2248\n",
      "Epoch [6/10], Valid Accuracy: 93.9400, Valid Loss: 0.3313\n",
      "Epoch [7/10], Loss: 0.2366\n",
      "Epoch [7/10], Valid Accuracy: 94.2000, Valid Loss: 0.2965\n",
      "Epoch [8/10], Loss: 0.2208\n",
      "Epoch [8/10], Valid Accuracy: 94.0300, Valid Loss: 0.2915\n",
      "Epoch [9/10], Loss: 0.2184\n",
      "Epoch [9/10], Valid Accuracy: 93.3100, Valid Loss: 0.3513\n",
      "Epoch [10/10], Loss: 0.2154\n",
      "Epoch [10/10], Valid Accuracy: 94.1000, Valid Loss: 0.3022\n"
     ]
    }
   ],
   "source": [
    "results2 = []\n",
    "layer_lst = [10, 50, 100, 300, 1000, 2000]\n",
    "for M in layer_lst:\n",
    "    net = get_model(M=M)\n",
    "    optimizer = optim.Adam(net.parameters(), lr=0.01)\n",
    "    val_acc, val_loss, train_loss = train_model(\n",
    "        train_loader, test_loader, num_epochs=10, model=net, optimizer=optimizer)\n",
    "    results2.append((M, val_acc, val_loss, train_loss))"
   ]
  },
  {
   "cell_type": "code",
   "execution_count": 34,
   "metadata": {},
   "outputs": [
    {
     "data": {
      "text/plain": [
       "[(10, 88.98, 0.39337335471510887, 0.4308561109741529),\n",
       " (50, 93.06, 0.33597618907447907, 0.24314220560342073),\n",
       " (100, 93.57, 0.31975358169961254, 0.21447443515613365),\n",
       " (300, 94.79, 0.2859804305537924, 0.21395817924438354),\n",
       " (1000, 94.14, 0.37381741085213144, 0.21561581363447088),\n",
       " (2000, 94.1, 0.30223074814751744, 0.21539423916906428)]"
      ]
     },
     "execution_count": 34,
     "metadata": {},
     "output_type": "execute_result"
    }
   ],
   "source": [
    "results2"
   ]
  },
  {
   "cell_type": "markdown",
   "metadata": {},
   "source": [
    "<li>Yes, beacause we can see the since from the layer = 50, the validation loss reach 0.26 then flatuate to a bigger value in the 0.3 range. "
   ]
  },
  {
   "cell_type": "markdown",
   "metadata": {},
   "source": [
    "## Exp3: Weight Decay"
   ]
  },
  {
   "cell_type": "code",
   "execution_count": 28,
   "metadata": {},
   "outputs": [
    {
     "name": "stdout",
     "output_type": "stream",
     "text": [
      "Epoch [1/20], Loss: 0.1861\n",
      "Epoch [1/20], Valid Accuracy: 96.5300, Valid Loss: 0.1177\n",
      "Epoch [2/20], Loss: 0.0880\n",
      "Epoch [2/20], Valid Accuracy: 97.0100, Valid Loss: 0.1026\n",
      "Epoch [3/20], Loss: 0.0609\n",
      "Epoch [3/20], Valid Accuracy: 96.9100, Valid Loss: 0.1075\n",
      "Epoch [4/20], Loss: 0.0503\n",
      "Epoch [4/20], Valid Accuracy: 97.6500, Valid Loss: 0.0930\n",
      "Epoch [5/20], Loss: 0.0384\n",
      "Epoch [5/20], Valid Accuracy: 97.6600, Valid Loss: 0.0989\n",
      "Epoch [6/20], Loss: 0.0381\n",
      "Epoch [6/20], Valid Accuracy: 98.0900, Valid Loss: 0.0828\n",
      "Epoch [7/20], Loss: 0.0319\n",
      "Epoch [7/20], Valid Accuracy: 97.5200, Valid Loss: 0.1147\n",
      "Epoch [8/20], Loss: 0.0271\n",
      "Epoch [8/20], Valid Accuracy: 97.2000, Valid Loss: 0.1396\n",
      "Epoch [9/20], Loss: 0.0289\n",
      "Epoch [9/20], Valid Accuracy: 97.9300, Valid Loss: 0.1245\n",
      "Epoch [10/20], Loss: 0.0282\n",
      "Epoch [10/20], Valid Accuracy: 97.6800, Valid Loss: 0.1244\n",
      "Epoch [11/20], Loss: 0.0226\n",
      "Epoch [11/20], Valid Accuracy: 97.8500, Valid Loss: 0.1500\n",
      "Epoch [12/20], Loss: 0.0283\n",
      "Epoch [12/20], Valid Accuracy: 98.1300, Valid Loss: 0.1346\n",
      "Epoch [13/20], Loss: 0.0230\n",
      "Epoch [13/20], Valid Accuracy: 97.8700, Valid Loss: 0.1444\n",
      "Epoch [14/20], Loss: 0.0208\n",
      "Epoch [14/20], Valid Accuracy: 97.8700, Valid Loss: 0.1597\n",
      "Epoch [15/20], Loss: 0.0231\n",
      "Epoch [15/20], Valid Accuracy: 97.9700, Valid Loss: 0.1524\n",
      "Epoch [16/20], Loss: 0.0210\n",
      "Epoch [16/20], Valid Accuracy: 97.6900, Valid Loss: 0.1759\n",
      "Epoch [17/20], Loss: 0.0169\n",
      "Epoch [17/20], Valid Accuracy: 97.8100, Valid Loss: 0.1771\n",
      "Epoch [18/20], Loss: 0.0198\n",
      "Epoch [18/20], Valid Accuracy: 97.9300, Valid Loss: 0.1899\n",
      "Epoch [19/20], Loss: 0.0203\n",
      "Epoch [19/20], Valid Accuracy: 98.2000, Valid Loss: 0.1459\n",
      "Epoch [20/20], Loss: 0.0161\n",
      "Epoch [20/20], Valid Accuracy: 98.0400, Valid Loss: 0.1897\n",
      "Epoch [1/20], Loss: 0.1887\n",
      "Epoch [1/20], Valid Accuracy: 97.1500, Valid Loss: 0.0975\n",
      "Epoch [2/20], Loss: 0.0967\n",
      "Epoch [2/20], Valid Accuracy: 96.9500, Valid Loss: 0.0985\n",
      "Epoch [3/20], Loss: 0.0735\n",
      "Epoch [3/20], Valid Accuracy: 97.6300, Valid Loss: 0.0815\n",
      "Epoch [4/20], Loss: 0.0634\n",
      "Epoch [4/20], Valid Accuracy: 97.1600, Valid Loss: 0.1013\n",
      "Epoch [5/20], Loss: 0.0538\n",
      "Epoch [5/20], Valid Accuracy: 97.2900, Valid Loss: 0.0986\n",
      "Epoch [6/20], Loss: 0.0507\n",
      "Epoch [6/20], Valid Accuracy: 97.2200, Valid Loss: 0.1133\n",
      "Epoch [7/20], Loss: 0.0447\n",
      "Epoch [7/20], Valid Accuracy: 97.5500, Valid Loss: 0.0927\n",
      "Epoch [8/20], Loss: 0.0427\n",
      "Epoch [8/20], Valid Accuracy: 97.0200, Valid Loss: 0.1153\n",
      "Epoch [9/20], Loss: 0.0382\n",
      "Epoch [9/20], Valid Accuracy: 97.5100, Valid Loss: 0.0979\n",
      "Epoch [10/20], Loss: 0.0402\n",
      "Epoch [10/20], Valid Accuracy: 97.3800, Valid Loss: 0.1113\n",
      "Epoch [11/20], Loss: 0.0363\n",
      "Epoch [11/20], Valid Accuracy: 97.1200, Valid Loss: 0.1260\n",
      "Epoch [12/20], Loss: 0.0363\n",
      "Epoch [12/20], Valid Accuracy: 97.7200, Valid Loss: 0.0990\n",
      "Epoch [13/20], Loss: 0.0322\n",
      "Epoch [13/20], Valid Accuracy: 97.7500, Valid Loss: 0.1032\n",
      "Epoch [14/20], Loss: 0.0362\n",
      "Epoch [14/20], Valid Accuracy: 97.3200, Valid Loss: 0.1093\n",
      "Epoch [15/20], Loss: 0.0305\n",
      "Epoch [15/20], Valid Accuracy: 97.4800, Valid Loss: 0.1144\n",
      "Epoch [16/20], Loss: 0.0328\n",
      "Epoch [16/20], Valid Accuracy: 98.0000, Valid Loss: 0.0951\n",
      "Epoch [17/20], Loss: 0.0321\n",
      "Epoch [17/20], Valid Accuracy: 98.0600, Valid Loss: 0.0885\n",
      "Epoch [18/20], Loss: 0.0303\n",
      "Epoch [18/20], Valid Accuracy: 97.5900, Valid Loss: 0.1038\n",
      "Epoch [19/20], Loss: 0.0289\n",
      "Epoch [19/20], Valid Accuracy: 97.7400, Valid Loss: 0.1025\n",
      "Epoch [20/20], Loss: 0.0308\n",
      "Epoch [20/20], Valid Accuracy: 97.9200, Valid Loss: 0.1000\n",
      "Epoch [1/20], Loss: 0.2047\n",
      "Epoch [1/20], Valid Accuracy: 96.6900, Valid Loss: 0.1055\n",
      "Epoch [2/20], Loss: 0.1202\n",
      "Epoch [2/20], Valid Accuracy: 97.0600, Valid Loss: 0.0965\n",
      "Epoch [3/20], Loss: 0.1029\n",
      "Epoch [3/20], Valid Accuracy: 96.6400, Valid Loss: 0.1122\n",
      "Epoch [4/20], Loss: 0.0907\n",
      "Epoch [4/20], Valid Accuracy: 97.2400, Valid Loss: 0.0981\n",
      "Epoch [5/20], Loss: 0.0857\n",
      "Epoch [5/20], Valid Accuracy: 97.0700, Valid Loss: 0.0917\n",
      "Epoch [6/20], Loss: 0.0803\n",
      "Epoch [6/20], Valid Accuracy: 97.0000, Valid Loss: 0.0983\n",
      "Epoch [7/20], Loss: 0.0798\n",
      "Epoch [7/20], Valid Accuracy: 97.3100, Valid Loss: 0.0862\n",
      "Epoch [8/20], Loss: 0.0770\n",
      "Epoch [8/20], Valid Accuracy: 97.0800, Valid Loss: 0.0950\n",
      "Epoch [9/20], Loss: 0.0743\n",
      "Epoch [9/20], Valid Accuracy: 97.3900, Valid Loss: 0.0870\n",
      "Epoch [10/20], Loss: 0.0727\n",
      "Epoch [10/20], Valid Accuracy: 97.2400, Valid Loss: 0.0903\n",
      "Epoch [11/20], Loss: 0.0724\n",
      "Epoch [11/20], Valid Accuracy: 97.2700, Valid Loss: 0.0861\n",
      "Epoch [12/20], Loss: 0.0687\n",
      "Epoch [12/20], Valid Accuracy: 96.7800, Valid Loss: 0.0981\n",
      "Epoch [13/20], Loss: 0.0715\n",
      "Epoch [13/20], Valid Accuracy: 97.3200, Valid Loss: 0.0883\n",
      "Epoch [14/20], Loss: 0.0683\n",
      "Epoch [14/20], Valid Accuracy: 97.3900, Valid Loss: 0.0869\n",
      "Epoch [15/20], Loss: 0.0678\n",
      "Epoch [15/20], Valid Accuracy: 97.3700, Valid Loss: 0.0806\n",
      "Epoch [16/20], Loss: 0.0663\n",
      "Epoch [16/20], Valid Accuracy: 97.2500, Valid Loss: 0.0859\n",
      "Epoch [17/20], Loss: 0.0705\n",
      "Epoch [17/20], Valid Accuracy: 97.1400, Valid Loss: 0.0959\n",
      "Epoch [18/20], Loss: 0.0654\n",
      "Epoch [18/20], Valid Accuracy: 97.0300, Valid Loss: 0.0921\n",
      "Epoch [19/20], Loss: 0.0673\n",
      "Epoch [19/20], Valid Accuracy: 97.5600, Valid Loss: 0.0813\n",
      "Epoch [20/20], Loss: 0.0665\n",
      "Epoch [20/20], Valid Accuracy: 97.3800, Valid Loss: 0.0843\n",
      "Epoch [1/20], Loss: 0.2877\n",
      "Epoch [1/20], Valid Accuracy: 93.4700, Valid Loss: 0.2128\n",
      "Epoch [2/20], Loss: 0.2066\n",
      "Epoch [2/20], Valid Accuracy: 95.1400, Valid Loss: 0.1771\n",
      "Epoch [3/20], Loss: 0.1884\n",
      "Epoch [3/20], Valid Accuracy: 95.2700, Valid Loss: 0.1712\n",
      "Epoch [4/20], Loss: 0.1789\n",
      "Epoch [4/20], Valid Accuracy: 95.7800, Valid Loss: 0.1662\n",
      "Epoch [5/20], Loss: 0.1748\n",
      "Epoch [5/20], Valid Accuracy: 95.4100, Valid Loss: 0.1706\n",
      "Epoch [6/20], Loss: 0.1741\n",
      "Epoch [6/20], Valid Accuracy: 95.8200, Valid Loss: 0.1595\n",
      "Epoch [7/20], Loss: 0.1694\n",
      "Epoch [7/20], Valid Accuracy: 95.1700, Valid Loss: 0.1688\n",
      "Epoch [8/20], Loss: 0.1698\n",
      "Epoch [8/20], Valid Accuracy: 95.6300, Valid Loss: 0.1519\n",
      "Epoch [9/20], Loss: 0.1692\n",
      "Epoch [9/20], Valid Accuracy: 95.5200, Valid Loss: 0.1652\n",
      "Epoch [10/20], Loss: 0.1688\n",
      "Epoch [10/20], Valid Accuracy: 95.7300, Valid Loss: 0.1504\n",
      "Epoch [11/20], Loss: 0.1676\n",
      "Epoch [11/20], Valid Accuracy: 95.6300, Valid Loss: 0.1563\n",
      "Epoch [12/20], Loss: 0.1659\n",
      "Epoch [12/20], Valid Accuracy: 95.6900, Valid Loss: 0.1538\n",
      "Epoch [13/20], Loss: 0.1679\n",
      "Epoch [13/20], Valid Accuracy: 95.7100, Valid Loss: 0.1590\n",
      "Epoch [14/20], Loss: 0.1669\n",
      "Epoch [14/20], Valid Accuracy: 95.9000, Valid Loss: 0.1501\n",
      "Epoch [15/20], Loss: 0.1668\n",
      "Epoch [15/20], Valid Accuracy: 96.0100, Valid Loss: 0.1511\n",
      "Epoch [16/20], Loss: 0.1677\n",
      "Epoch [16/20], Valid Accuracy: 95.8000, Valid Loss: 0.1521\n",
      "Epoch [17/20], Loss: 0.1665\n",
      "Epoch [17/20], Valid Accuracy: 95.9200, Valid Loss: 0.1518\n",
      "Epoch [18/20], Loss: 0.1671\n",
      "Epoch [18/20], Valid Accuracy: 95.8800, Valid Loss: 0.1459\n",
      "Epoch [19/20], Loss: 0.1650\n",
      "Epoch [19/20], Valid Accuracy: 95.8500, Valid Loss: 0.1489\n",
      "Epoch [20/20], Loss: 0.1657\n",
      "Epoch [20/20], Valid Accuracy: 95.9400, Valid Loss: 0.1469\n",
      "Epoch [1/20], Loss: 0.5623\n",
      "Epoch [1/20], Valid Accuracy: 87.6600, Valid Loss: 0.4841\n",
      "Epoch [2/20], Loss: 0.4944\n",
      "Epoch [2/20], Valid Accuracy: 89.0700, Valid Loss: 0.4583\n",
      "Epoch [3/20], Loss: 0.4826\n",
      "Epoch [3/20], Valid Accuracy: 88.6100, Valid Loss: 0.4638\n",
      "Epoch [4/20], Loss: 0.4753\n",
      "Epoch [4/20], Valid Accuracy: 88.2600, Valid Loss: 0.4496\n",
      "Epoch [5/20], Loss: 0.4726\n",
      "Epoch [5/20], Valid Accuracy: 89.4500, Valid Loss: 0.4579\n",
      "Epoch [6/20], Loss: 0.4708\n",
      "Epoch [6/20], Valid Accuracy: 89.3200, Valid Loss: 0.4509\n",
      "Epoch [7/20], Loss: 0.4688\n",
      "Epoch [7/20], Valid Accuracy: 88.6600, Valid Loss: 0.4669\n",
      "Epoch [8/20], Loss: 0.4691\n",
      "Epoch [8/20], Valid Accuracy: 90.1100, Valid Loss: 0.4471\n",
      "Epoch [9/20], Loss: 0.4680\n",
      "Epoch [9/20], Valid Accuracy: 89.1900, Valid Loss: 0.4479\n",
      "Epoch [10/20], Loss: 0.4666\n",
      "Epoch [10/20], Valid Accuracy: 89.6700, Valid Loss: 0.4479\n",
      "Epoch [11/20], Loss: 0.4661\n",
      "Epoch [11/20], Valid Accuracy: 89.8800, Valid Loss: 0.4382\n",
      "Epoch [12/20], Loss: 0.4665\n",
      "Epoch [12/20], Valid Accuracy: 89.2600, Valid Loss: 0.4589\n",
      "Epoch [13/20], Loss: 0.4658\n",
      "Epoch [13/20], Valid Accuracy: 89.9900, Valid Loss: 0.4381\n",
      "Epoch [14/20], Loss: 0.4660\n",
      "Epoch [14/20], Valid Accuracy: 89.9200, Valid Loss: 0.4405\n",
      "Epoch [15/20], Loss: 0.4658\n",
      "Epoch [15/20], Valid Accuracy: 89.5900, Valid Loss: 0.4438\n",
      "Epoch [16/20], Loss: 0.4646\n"
     ]
    },
    {
     "name": "stdout",
     "output_type": "stream",
     "text": [
      "Epoch [16/20], Valid Accuracy: 90.0300, Valid Loss: 0.4467\n",
      "Epoch [17/20], Loss: 0.4646\n",
      "Epoch [17/20], Valid Accuracy: 89.4900, Valid Loss: 0.4429\n",
      "Epoch [18/20], Loss: 0.4644\n",
      "Epoch [18/20], Valid Accuracy: 89.8100, Valid Loss: 0.4365\n",
      "Epoch [19/20], Loss: 0.4646\n",
      "Epoch [19/20], Valid Accuracy: 90.1400, Valid Loss: 0.4374\n",
      "Epoch [20/20], Loss: 0.4649\n",
      "Epoch [20/20], Valid Accuracy: 90.2200, Valid Loss: 0.4399\n",
      "Epoch [1/20], Loss: 0.8976\n",
      "Epoch [1/20], Valid Accuracy: 82.3900, Valid Loss: 0.8365\n",
      "Epoch [2/20], Loss: 0.8418\n",
      "Epoch [2/20], Valid Accuracy: 84.1000, Valid Loss: 0.8287\n",
      "Epoch [3/20], Loss: 0.8304\n",
      "Epoch [3/20], Valid Accuracy: 84.4500, Valid Loss: 0.8024\n",
      "Epoch [4/20], Loss: 0.8256\n",
      "Epoch [4/20], Valid Accuracy: 84.9100, Valid Loss: 0.7918\n",
      "Epoch [5/20], Loss: 0.8213\n",
      "Epoch [5/20], Valid Accuracy: 84.2700, Valid Loss: 0.8037\n",
      "Epoch [6/20], Loss: 0.8202\n",
      "Epoch [6/20], Valid Accuracy: 84.1500, Valid Loss: 0.7993\n",
      "Epoch [7/20], Loss: 0.8213\n",
      "Epoch [7/20], Valid Accuracy: 85.3700, Valid Loss: 0.7913\n",
      "Epoch [8/20], Loss: 0.8172\n",
      "Epoch [8/20], Valid Accuracy: 82.6600, Valid Loss: 0.8003\n",
      "Epoch [9/20], Loss: 0.8177\n",
      "Epoch [9/20], Valid Accuracy: 84.9100, Valid Loss: 0.7891\n",
      "Epoch [10/20], Loss: 0.8173\n",
      "Epoch [10/20], Valid Accuracy: 85.4500, Valid Loss: 0.8053\n",
      "Epoch [11/20], Loss: 0.8160\n",
      "Epoch [11/20], Valid Accuracy: 83.0600, Valid Loss: 0.7991\n",
      "Epoch [12/20], Loss: 0.8167\n",
      "Epoch [12/20], Valid Accuracy: 84.9800, Valid Loss: 0.7944\n",
      "Epoch [13/20], Loss: 0.8159\n",
      "Epoch [13/20], Valid Accuracy: 85.1200, Valid Loss: 0.7905\n",
      "Epoch [14/20], Loss: 0.8148\n",
      "Epoch [14/20], Valid Accuracy: 85.1600, Valid Loss: 0.7943\n",
      "Epoch [15/20], Loss: 0.8163\n",
      "Epoch [15/20], Valid Accuracy: 84.9900, Valid Loss: 0.7934\n",
      "Epoch [16/20], Loss: 0.8150\n",
      "Epoch [16/20], Valid Accuracy: 85.0200, Valid Loss: 0.8052\n",
      "Epoch [17/20], Loss: 0.8151\n",
      "Epoch [17/20], Valid Accuracy: 84.7200, Valid Loss: 0.7977\n",
      "Epoch [18/20], Loss: 0.8158\n",
      "Epoch [18/20], Valid Accuracy: 83.2800, Valid Loss: 0.7907\n",
      "Epoch [19/20], Loss: 0.8154\n",
      "Epoch [19/20], Valid Accuracy: 84.5700, Valid Loss: 0.7952\n",
      "Epoch [20/20], Loss: 0.8161\n",
      "Epoch [20/20], Valid Accuracy: 85.1600, Valid Loss: 0.7924\n",
      "CPU times: user 1h 13min 19s, sys: 1min 45s, total: 1h 15min 5s\n",
      "Wall time: 54min 29s\n"
     ]
    }
   ],
   "source": [
    "% % time\n",
    "results3 = []\n",
    "w_lst = [0, 0.0001, 0.001, 0.01, 0.1, 0.3]\n",
    "for w in w_lst:\n",
    "    net = get_model(M=M)\n",
    "    optimizer = optim.Adam(net.parameters(), lr=0.001, weight_decay=w)\n",
    "    val_acc, val_loss, train_loss = train_model(\n",
    "        train_loader, test_loader, num_epochs=20, model=net, optimizer=optimizer)\n",
    "    results3.append((w, val_acc, val_loss, train_loss))"
   ]
  },
  {
   "cell_type": "code",
   "execution_count": 35,
   "metadata": {},
   "outputs": [
    {
     "data": {
      "text/plain": [
       "[(0, 98.04, 0.18974565684741357, 0.016121966866969383),\n",
       " (0.0001, 97.92, 0.10002850203365433, 0.030822503035720546),\n",
       " (0.001, 97.38, 0.08431064664162695, 0.06646437548243751),\n",
       " (0.01, 95.94, 0.14694650197178125, 0.16574470339119435),\n",
       " (0.1, 90.22, 0.43993339729309083, 0.4649301366488139),\n",
       " (0.3, 85.16, 0.7923685214042664, 0.8160987287521362)]"
      ]
     },
     "execution_count": 35,
     "metadata": {},
     "output_type": "execute_result"
    }
   ],
   "source": [
    "results3"
   ]
  },
  {
   "cell_type": "markdown",
   "metadata": {},
   "source": [
    "<li>We can see the regularized method reached better results compared with no regularized result."
   ]
  },
  {
   "cell_type": "markdown",
   "metadata": {},
   "source": [
    "##  Exp4: Drop Out"
   ]
  },
  {
   "cell_type": "code",
   "execution_count": 23,
   "metadata": {},
   "outputs": [
    {
     "name": "stdout",
     "output_type": "stream",
     "text": [
      "Epoch [1/20], Loss: 0.1992\n",
      "Epoch [1/20], Valid Accuracy: 97.1700, Valid Loss: 0.0997\n",
      "Epoch [2/20], Loss: 0.0893\n",
      "Epoch [2/20], Valid Accuracy: 96.9700, Valid Loss: 0.0968\n",
      "Epoch [3/20], Loss: 0.0622\n",
      "Epoch [3/20], Valid Accuracy: 97.7000, Valid Loss: 0.0763\n",
      "Epoch [4/20], Loss: 0.0476\n",
      "Epoch [4/20], Valid Accuracy: 97.5800, Valid Loss: 0.0834\n",
      "Epoch [5/20], Loss: 0.0379\n",
      "Epoch [5/20], Valid Accuracy: 97.4800, Valid Loss: 0.0880\n",
      "Epoch [6/20], Loss: 0.0324\n",
      "Epoch [6/20], Valid Accuracy: 97.7600, Valid Loss: 0.0819\n",
      "Epoch [7/20], Loss: 0.0286\n",
      "Epoch [7/20], Valid Accuracy: 98.0600, Valid Loss: 0.0777\n",
      "Epoch [8/20], Loss: 0.0238\n",
      "Epoch [8/20], Valid Accuracy: 97.4300, Valid Loss: 0.1093\n",
      "Epoch [9/20], Loss: 0.0216\n",
      "Epoch [9/20], Valid Accuracy: 97.9900, Valid Loss: 0.0846\n",
      "Epoch [10/20], Loss: 0.0230\n",
      "Epoch [10/20], Valid Accuracy: 97.8300, Valid Loss: 0.0973\n",
      "Epoch [11/20], Loss: 0.0197\n",
      "Epoch [11/20], Valid Accuracy: 97.9400, Valid Loss: 0.1069\n",
      "Epoch [12/20], Loss: 0.0187\n",
      "Epoch [12/20], Valid Accuracy: 98.0200, Valid Loss: 0.1020\n",
      "Epoch [13/20], Loss: 0.0170\n",
      "Epoch [13/20], Valid Accuracy: 97.6600, Valid Loss: 0.1289\n",
      "Epoch [14/20], Loss: 0.0158\n",
      "Epoch [14/20], Valid Accuracy: 97.9100, Valid Loss: 0.1303\n",
      "Epoch [15/20], Loss: 0.0144\n",
      "Epoch [15/20], Valid Accuracy: 97.8200, Valid Loss: 0.1390\n",
      "Epoch [16/20], Loss: 0.0135\n",
      "Epoch [16/20], Valid Accuracy: 98.1700, Valid Loss: 0.1299\n",
      "Epoch [17/20], Loss: 0.0145\n",
      "Epoch [17/20], Valid Accuracy: 98.0500, Valid Loss: 0.1381\n",
      "Epoch [18/20], Loss: 0.0121\n",
      "Epoch [18/20], Valid Accuracy: 97.9300, Valid Loss: 0.1245\n",
      "Epoch [19/20], Loss: 0.0141\n",
      "Epoch [19/20], Valid Accuracy: 98.1500, Valid Loss: 0.1225\n",
      "Epoch [20/20], Loss: 0.0146\n",
      "Epoch [20/20], Valid Accuracy: 98.0500, Valid Loss: 0.1366\n",
      "Epoch [1/20], Loss: 0.2120\n",
      "Epoch [1/20], Valid Accuracy: 96.5900, Valid Loss: 0.1096\n",
      "Epoch [2/20], Loss: 0.0893\n",
      "Epoch [2/20], Valid Accuracy: 96.7900, Valid Loss: 0.0998\n",
      "Epoch [3/20], Loss: 0.0634\n",
      "Epoch [3/20], Valid Accuracy: 97.5400, Valid Loss: 0.0824\n",
      "Epoch [4/20], Loss: 0.0476\n",
      "Epoch [4/20], Valid Accuracy: 97.4600, Valid Loss: 0.0889\n",
      "Epoch [5/20], Loss: 0.0390\n",
      "Epoch [5/20], Valid Accuracy: 97.5700, Valid Loss: 0.0874\n",
      "Epoch [6/20], Loss: 0.0340\n",
      "Epoch [6/20], Valid Accuracy: 97.5500, Valid Loss: 0.0920\n",
      "Epoch [7/20], Loss: 0.0285\n",
      "Epoch [7/20], Valid Accuracy: 97.9500, Valid Loss: 0.0866\n",
      "Epoch [8/20], Loss: 0.0254\n",
      "Epoch [8/20], Valid Accuracy: 97.7900, Valid Loss: 0.0940\n",
      "Epoch [9/20], Loss: 0.0213\n",
      "Epoch [9/20], Valid Accuracy: 97.7700, Valid Loss: 0.0976\n",
      "Epoch [10/20], Loss: 0.0220\n",
      "Epoch [10/20], Valid Accuracy: 98.0400, Valid Loss: 0.0848\n",
      "Epoch [11/20], Loss: 0.0191\n",
      "Epoch [11/20], Valid Accuracy: 97.6200, Valid Loss: 0.1170\n",
      "Epoch [12/20], Loss: 0.0176\n",
      "Epoch [12/20], Valid Accuracy: 97.6600, Valid Loss: 0.1141\n",
      "Epoch [13/20], Loss: 0.0170\n",
      "Epoch [13/20], Valid Accuracy: 97.0100, Valid Loss: 0.1587\n",
      "Epoch [14/20], Loss: 0.0150\n",
      "Epoch [14/20], Valid Accuracy: 97.8400, Valid Loss: 0.1249\n",
      "Epoch [15/20], Loss: 0.0149\n",
      "Epoch [15/20], Valid Accuracy: 97.7600, Valid Loss: 0.1263\n",
      "Epoch [16/20], Loss: 0.0146\n",
      "Epoch [16/20], Valid Accuracy: 97.8400, Valid Loss: 0.1330\n",
      "Epoch [17/20], Loss: 0.0159\n",
      "Epoch [17/20], Valid Accuracy: 98.0800, Valid Loss: 0.1323\n",
      "Epoch [18/20], Loss: 0.0127\n",
      "Epoch [18/20], Valid Accuracy: 97.6000, Valid Loss: 0.1605\n",
      "Epoch [19/20], Loss: 0.0143\n",
      "Epoch [19/20], Valid Accuracy: 97.7900, Valid Loss: 0.1481\n",
      "Epoch [20/20], Loss: 0.0141\n",
      "Epoch [20/20], Valid Accuracy: 98.0900, Valid Loss: 0.1452\n",
      "Epoch [1/20], Loss: 0.2406\n",
      "Epoch [1/20], Valid Accuracy: 96.3800, Valid Loss: 0.1193\n",
      "Epoch [2/20], Loss: 0.0946\n",
      "Epoch [2/20], Valid Accuracy: 97.4800, Valid Loss: 0.0789\n",
      "Epoch [3/20], Loss: 0.0656\n",
      "Epoch [3/20], Valid Accuracy: 97.3000, Valid Loss: 0.0871\n",
      "Epoch [4/20], Loss: 0.0503\n",
      "Epoch [4/20], Valid Accuracy: 97.5700, Valid Loss: 0.0869\n",
      "Epoch [5/20], Loss: 0.0393\n",
      "Epoch [5/20], Valid Accuracy: 97.7000, Valid Loss: 0.0867\n",
      "Epoch [6/20], Loss: 0.0346\n",
      "Epoch [6/20], Valid Accuracy: 97.8600, Valid Loss: 0.0837\n",
      "Epoch [7/20], Loss: 0.0285\n",
      "Epoch [7/20], Valid Accuracy: 97.9200, Valid Loss: 0.0819\n",
      "Epoch [8/20], Loss: 0.0235\n",
      "Epoch [8/20], Valid Accuracy: 97.7000, Valid Loss: 0.0983\n",
      "Epoch [9/20], Loss: 0.0250\n",
      "Epoch [9/20], Valid Accuracy: 97.7700, Valid Loss: 0.0921\n",
      "Epoch [10/20], Loss: 0.0192\n",
      "Epoch [10/20], Valid Accuracy: 97.7300, Valid Loss: 0.1076\n",
      "Epoch [11/20], Loss: 0.0208\n",
      "Epoch [11/20], Valid Accuracy: 97.4900, Valid Loss: 0.1160\n",
      "Epoch [12/20], Loss: 0.0164\n",
      "Epoch [12/20], Valid Accuracy: 98.0400, Valid Loss: 0.1017\n",
      "Epoch [13/20], Loss: 0.0167\n",
      "Epoch [13/20], Valid Accuracy: 97.7000, Valid Loss: 0.1246\n",
      "Epoch [14/20], Loss: 0.0165\n",
      "Epoch [14/20], Valid Accuracy: 97.7600, Valid Loss: 0.1327\n",
      "Epoch [15/20], Loss: 0.0193\n",
      "Epoch [15/20], Valid Accuracy: 97.6300, Valid Loss: 0.1324\n",
      "Epoch [16/20], Loss: 0.0126\n",
      "Epoch [16/20], Valid Accuracy: 97.6200, Valid Loss: 0.1389\n",
      "Epoch [17/20], Loss: 0.0171\n",
      "Epoch [17/20], Valid Accuracy: 97.8200, Valid Loss: 0.1292\n",
      "Epoch [18/20], Loss: 0.0152\n",
      "Epoch [18/20], Valid Accuracy: 97.9300, Valid Loss: 0.1448\n",
      "Epoch [19/20], Loss: 0.0152\n",
      "Epoch [19/20], Valid Accuracy: 97.9200, Valid Loss: 0.1338\n",
      "Epoch [20/20], Loss: 0.0092\n",
      "Epoch [20/20], Valid Accuracy: 98.0100, Valid Loss: 0.1556\n",
      "Epoch [1/20], Loss: 0.2933\n",
      "Epoch [1/20], Valid Accuracy: 95.9500, Valid Loss: 0.1311\n",
      "Epoch [2/20], Loss: 0.0982\n",
      "Epoch [2/20], Valid Accuracy: 97.2200, Valid Loss: 0.0805\n",
      "Epoch [3/20], Loss: 0.0695\n",
      "Epoch [3/20], Valid Accuracy: 97.3200, Valid Loss: 0.0801\n",
      "Epoch [4/20], Loss: 0.0535\n",
      "Epoch [4/20], Valid Accuracy: 97.3300, Valid Loss: 0.0847\n",
      "Epoch [5/20], Loss: 0.0419\n",
      "Epoch [5/20], Valid Accuracy: 97.8100, Valid Loss: 0.0789\n",
      "Epoch [6/20], Loss: 0.0351\n",
      "Epoch [6/20], Valid Accuracy: 97.5300, Valid Loss: 0.0958\n",
      "Epoch [7/20], Loss: 0.0292\n",
      "Epoch [7/20], Valid Accuracy: 97.5700, Valid Loss: 0.0988\n",
      "Epoch [8/20], Loss: 0.0244\n",
      "Epoch [8/20], Valid Accuracy: 97.3500, Valid Loss: 0.1085\n",
      "Epoch [9/20], Loss: 0.0253\n",
      "Epoch [9/20], Valid Accuracy: 97.7500, Valid Loss: 0.0970\n",
      "Epoch [10/20], Loss: 0.0224\n",
      "Epoch [10/20], Valid Accuracy: 97.9300, Valid Loss: 0.0913\n",
      "Epoch [11/20], Loss: 0.0168\n",
      "Epoch [11/20], Valid Accuracy: 97.8600, Valid Loss: 0.1170\n",
      "Epoch [12/20], Loss: 0.0219\n",
      "Epoch [12/20], Valid Accuracy: 97.8500, Valid Loss: 0.1113\n",
      "Epoch [13/20], Loss: 0.0149\n",
      "Epoch [13/20], Valid Accuracy: 97.7300, Valid Loss: 0.1223\n",
      "Epoch [14/20], Loss: 0.0186\n",
      "Epoch [14/20], Valid Accuracy: 98.0400, Valid Loss: 0.1103\n",
      "Epoch [15/20], Loss: 0.0141\n",
      "Epoch [15/20], Valid Accuracy: 97.9500, Valid Loss: 0.1236\n",
      "Epoch [16/20], Loss: 0.0142\n",
      "Epoch [16/20], Valid Accuracy: 98.0100, Valid Loss: 0.1238\n",
      "Epoch [17/20], Loss: 0.0145\n",
      "Epoch [17/20], Valid Accuracy: 97.7700, Valid Loss: 0.1549\n",
      "Epoch [18/20], Loss: 0.0146\n",
      "Epoch [18/20], Valid Accuracy: 97.6700, Valid Loss: 0.1416\n",
      "Epoch [19/20], Loss: 0.0151\n",
      "Epoch [19/20], Valid Accuracy: 98.0600, Valid Loss: 0.1257\n",
      "Epoch [20/20], Loss: 0.0133\n",
      "Epoch [20/20], Valid Accuracy: 97.8700, Valid Loss: 0.1440\n",
      "Epoch [1/20], Loss: 0.4025\n",
      "Epoch [1/20], Valid Accuracy: 95.4400, Valid Loss: 0.1561\n",
      "Epoch [2/20], Loss: 0.1135\n",
      "Epoch [2/20], Valid Accuracy: 97.2200, Valid Loss: 0.0939\n",
      "Epoch [3/20], Loss: 0.0745\n",
      "Epoch [3/20], Valid Accuracy: 97.5900, Valid Loss: 0.0804\n",
      "Epoch [4/20], Loss: 0.0594\n",
      "Epoch [4/20], Valid Accuracy: 97.6400, Valid Loss: 0.0754\n",
      "Epoch [5/20], Loss: 0.0430\n",
      "Epoch [5/20], Valid Accuracy: 97.5600, Valid Loss: 0.0857\n",
      "Epoch [6/20], Loss: 0.0370\n",
      "Epoch [6/20], Valid Accuracy: 97.6900, Valid Loss: 0.0874\n",
      "Epoch [7/20], Loss: 0.0305\n",
      "Epoch [7/20], Valid Accuracy: 98.0500, Valid Loss: 0.0776\n",
      "Epoch [8/20], Loss: 0.0267\n",
      "Epoch [8/20], Valid Accuracy: 97.4700, Valid Loss: 0.0975\n",
      "Epoch [9/20], Loss: 0.0241\n",
      "Epoch [9/20], Valid Accuracy: 97.4300, Valid Loss: 0.1091\n",
      "Epoch [10/20], Loss: 0.0220\n",
      "Epoch [10/20], Valid Accuracy: 97.9300, Valid Loss: 0.0964\n",
      "Epoch [11/20], Loss: 0.0192\n",
      "Epoch [11/20], Valid Accuracy: 97.8100, Valid Loss: 0.1050\n",
      "Epoch [12/20], Loss: 0.0186\n",
      "Epoch [12/20], Valid Accuracy: 97.7900, Valid Loss: 0.1160\n",
      "Epoch [13/20], Loss: 0.0149\n",
      "Epoch [13/20], Valid Accuracy: 97.8200, Valid Loss: 0.1249\n",
      "Epoch [14/20], Loss: 0.0166\n",
      "Epoch [14/20], Valid Accuracy: 98.0200, Valid Loss: 0.1059\n",
      "Epoch [15/20], Loss: 0.0158\n",
      "Epoch [15/20], Valid Accuracy: 97.7300, Valid Loss: 0.1193\n",
      "Epoch [16/20], Loss: 0.0148\n"
     ]
    },
    {
     "name": "stdout",
     "output_type": "stream",
     "text": [
      "Epoch [16/20], Valid Accuracy: 97.8000, Valid Loss: 0.1318\n",
      "Epoch [17/20], Loss: 0.0146\n",
      "Epoch [17/20], Valid Accuracy: 97.9000, Valid Loss: 0.1473\n",
      "Epoch [18/20], Loss: 0.0151\n",
      "Epoch [18/20], Valid Accuracy: 98.1200, Valid Loss: 0.1321\n",
      "Epoch [19/20], Loss: 0.0130\n",
      "Epoch [19/20], Valid Accuracy: 97.9500, Valid Loss: 0.1382\n",
      "Epoch [20/20], Loss: 0.0109\n",
      "Epoch [20/20], Valid Accuracy: 98.2000, Valid Loss: 0.1326\n",
      "Epoch [1/20], Loss: 0.8855\n",
      "Epoch [1/20], Valid Accuracy: 92.4300, Valid Loss: 0.2723\n",
      "Epoch [2/20], Loss: 0.1635\n",
      "Epoch [2/20], Valid Accuracy: 96.7400, Valid Loss: 0.1110\n",
      "Epoch [3/20], Loss: 0.0909\n",
      "Epoch [3/20], Valid Accuracy: 97.0700, Valid Loss: 0.0930\n",
      "Epoch [4/20], Loss: 0.0666\n",
      "Epoch [4/20], Valid Accuracy: 97.7900, Valid Loss: 0.0747\n",
      "Epoch [5/20], Loss: 0.0511\n",
      "Epoch [5/20], Valid Accuracy: 97.6500, Valid Loss: 0.0762\n",
      "Epoch [6/20], Loss: 0.0406\n",
      "Epoch [6/20], Valid Accuracy: 97.5800, Valid Loss: 0.0905\n",
      "Epoch [7/20], Loss: 0.0340\n",
      "Epoch [7/20], Valid Accuracy: 97.6000, Valid Loss: 0.0860\n",
      "Epoch [8/20], Loss: 0.0284\n",
      "Epoch [8/20], Valid Accuracy: 97.0800, Valid Loss: 0.1207\n",
      "Epoch [9/20], Loss: 0.0242\n",
      "Epoch [9/20], Valid Accuracy: 97.9800, Valid Loss: 0.0840\n",
      "Epoch [10/20], Loss: 0.0222\n",
      "Epoch [10/20], Valid Accuracy: 97.7700, Valid Loss: 0.1055\n",
      "Epoch [11/20], Loss: 0.0210\n",
      "Epoch [11/20], Valid Accuracy: 97.9200, Valid Loss: 0.0985\n",
      "Epoch [12/20], Loss: 0.0199\n",
      "Epoch [12/20], Valid Accuracy: 97.8400, Valid Loss: 0.1090\n",
      "Epoch [13/20], Loss: 0.0174\n",
      "Epoch [13/20], Valid Accuracy: 97.8400, Valid Loss: 0.1068\n",
      "Epoch [14/20], Loss: 0.0144\n",
      "Epoch [14/20], Valid Accuracy: 97.8600, Valid Loss: 0.1052\n",
      "Epoch [15/20], Loss: 0.0154\n",
      "Epoch [15/20], Valid Accuracy: 97.7900, Valid Loss: 0.1352\n",
      "Epoch [16/20], Loss: 0.0151\n",
      "Epoch [16/20], Valid Accuracy: 98.0700, Valid Loss: 0.1109\n",
      "Epoch [17/20], Loss: 0.0146\n",
      "Epoch [17/20], Valid Accuracy: 97.8500, Valid Loss: 0.1324\n",
      "Epoch [18/20], Loss: 0.0158\n",
      "Epoch [18/20], Valid Accuracy: 97.9300, Valid Loss: 0.1287\n",
      "Epoch [19/20], Loss: 0.0122\n",
      "Epoch [19/20], Valid Accuracy: 98.0900, Valid Loss: 0.1276\n",
      "Epoch [20/20], Loss: 0.0129\n",
      "Epoch [20/20], Valid Accuracy: 97.7100, Valid Loss: 0.1550\n",
      "CPU times: user 12min 7s, sys: 1min 16s, total: 13min 24s\n",
      "Wall time: 15min 23s\n"
     ]
    }
   ],
   "source": [
    "% % time\n",
    "results4 = []\n",
    "drop_lst = [0, 0.1, 0.3, 0.5, 0.7, 0.9]\n",
    "for p in drop_lst:\n",
    "    net = get_model_v2(M=300, p=p)\n",
    "    optimizer = optim.Adam(net.parameters(), lr=0.001)\n",
    "    val_acc, val_loss, train_loss = train_model(\n",
    "        train_loader, test_loader, num_epochs=20, model=net, optimizer=optimizer)\n",
    "    results4.append((p, val_acc, val_loss, train_loss))"
   ]
  },
  {
   "cell_type": "code",
   "execution_count": 26,
   "metadata": {},
   "outputs": [
    {
     "data": {
      "text/plain": [
       "[(0, 98.05, 0.136631362753248, 0.014576189118806133),\n",
       " (0.1, 98.09, 0.1452093840407403, 0.014103234035028193),\n",
       " (0.3, 98.01, 0.15555740666334553, 0.00915450853975066),\n",
       " (0.5, 97.87, 0.1439852170264713, 0.013332274961422474),\n",
       " (0.7, 98.2, 0.13264456106708913, 0.010947683862093624),\n",
       " (0.9, 97.71, 0.1549760639046227, 0.012923106805318175)]"
      ]
     },
     "execution_count": 26,
     "metadata": {},
     "output_type": "execute_result"
    }
   ],
   "source": [
    "results4"
   ]
  },
  {
   "cell_type": "markdown",
   "metadata": {},
   "source": [
    "<li>The best performance is achieved when the dropout ratio equals 0.7. \n",
    "<li>Why Dropout method work: Because the outputs of a layer under dropout are randomly subsampled, it has the effect of reducing the capacity or thinning the network during training.\n",
    "<li>The Dropout method work generally performs better than a model without in terms of validation accuracy. \n",
    "<li>Drop out method performs slightly worse than L2 regularization but it cost only 25% of the time the regularization method is needed."
   ]
  }
 ],
 "metadata": {
  "kernelspec": {
   "display_name": "Python 3",
   "language": "python",
   "name": "python3"
  },
  "language_info": {
   "codemirror_mode": {
    "name": "ipython",
    "version": 3
   },
   "file_extension": ".py",
   "mimetype": "text/x-python",
   "name": "python",
   "nbconvert_exporter": "python",
   "pygments_lexer": "ipython3",
   "version": "3.8.8"
  },
  "toc": {
   "base_numbering": 1,
   "nav_menu": {},
   "number_sections": true,
   "sideBar": true,
   "skip_h1_title": false,
   "title_cell": "Table of Contents",
   "title_sidebar": "Contents",
   "toc_cell": false,
   "toc_position": {},
   "toc_section_display": "block",
   "toc_window_display": true
  }
 },
 "nbformat": 4,
 "nbformat_minor": 2
}
