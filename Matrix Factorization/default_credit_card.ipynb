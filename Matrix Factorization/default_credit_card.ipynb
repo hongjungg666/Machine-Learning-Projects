{
 "cells": [
  {
   "cell_type": "code",
   "execution_count": 6,
   "id": "7b5a2f15",
   "metadata": {},
   "outputs": [],
   "source": [
    "import torch.nn as nn\n",
    "import torch.autograd as autograd\n",
    "import torch\n",
    "import pandas as pd\n",
    "from pathlib import Path\n",
    "import numpy as np\n",
    "import torch.optim as optim\n",
    "import torch.nn.functional as F\n",
    "%matplotlib inline"
   ]
  },
  {
   "cell_type": "markdown",
   "id": "826291eb",
   "metadata": {},
   "source": [
    "# Binary classification with PyTorch"
   ]
  },
  {
   "cell_type": "markdown",
   "id": "4450a964",
   "metadata": {},
   "source": [
    "## read data"
   ]
  },
  {
   "cell_type": "code",
   "execution_count": 7,
   "id": "799c42c8",
   "metadata": {},
   "outputs": [
    {
     "data": {
      "text/plain": [
       "[PosixPath('data_hw2/default-credit-card-clients.csv'),\n",
       " PosixPath('data_hw2/train_books_ratings.csv'),\n",
       " PosixPath('data_hw2/valid_books_ratings.csv')]"
      ]
     },
     "execution_count": 7,
     "metadata": {},
     "output_type": "execute_result"
    }
   ],
   "source": [
    "PATH = Path(\"data_hw2\")\n",
    "list(PATH.iterdir())"
   ]
  },
  {
   "cell_type": "code",
   "execution_count": 10,
   "id": "ab3dfff0",
   "metadata": {},
   "outputs": [],
   "source": [
    "df = pd.get_dummies(df, columns=['EDUCATION','MARRIAGE'])"
   ]
  },
  {
   "cell_type": "code",
   "execution_count": 11,
   "id": "edbfb43c",
   "metadata": {},
   "outputs": [
    {
     "data": {
      "text/html": [
       "<div>\n",
       "<style scoped>\n",
       "    .dataframe tbody tr th:only-of-type {\n",
       "        vertical-align: middle;\n",
       "    }\n",
       "\n",
       "    .dataframe tbody tr th {\n",
       "        vertical-align: top;\n",
       "    }\n",
       "\n",
       "    .dataframe thead th {\n",
       "        text-align: right;\n",
       "    }\n",
       "</style>\n",
       "<table border=\"1\" class=\"dataframe\">\n",
       "  <thead>\n",
       "    <tr style=\"text-align: right;\">\n",
       "      <th></th>\n",
       "      <th>ID</th>\n",
       "      <th>LIMIT_BAL</th>\n",
       "      <th>SEX</th>\n",
       "      <th>AGE</th>\n",
       "      <th>PAY_0</th>\n",
       "      <th>PAY_2</th>\n",
       "      <th>PAY_3</th>\n",
       "      <th>PAY_4</th>\n",
       "      <th>PAY_5</th>\n",
       "      <th>PAY_6</th>\n",
       "      <th>...</th>\n",
       "      <th>EDUCATION_1</th>\n",
       "      <th>EDUCATION_2</th>\n",
       "      <th>EDUCATION_3</th>\n",
       "      <th>EDUCATION_4</th>\n",
       "      <th>EDUCATION_5</th>\n",
       "      <th>EDUCATION_6</th>\n",
       "      <th>MARRIAGE_0</th>\n",
       "      <th>MARRIAGE_1</th>\n",
       "      <th>MARRIAGE_2</th>\n",
       "      <th>MARRIAGE_3</th>\n",
       "    </tr>\n",
       "  </thead>\n",
       "  <tbody>\n",
       "    <tr>\n",
       "      <th>0</th>\n",
       "      <td>1</td>\n",
       "      <td>20000</td>\n",
       "      <td>2</td>\n",
       "      <td>24</td>\n",
       "      <td>2</td>\n",
       "      <td>2</td>\n",
       "      <td>-1</td>\n",
       "      <td>-1</td>\n",
       "      <td>-2</td>\n",
       "      <td>-2</td>\n",
       "      <td>...</td>\n",
       "      <td>0</td>\n",
       "      <td>1</td>\n",
       "      <td>0</td>\n",
       "      <td>0</td>\n",
       "      <td>0</td>\n",
       "      <td>0</td>\n",
       "      <td>0</td>\n",
       "      <td>1</td>\n",
       "      <td>0</td>\n",
       "      <td>0</td>\n",
       "    </tr>\n",
       "    <tr>\n",
       "      <th>1</th>\n",
       "      <td>2</td>\n",
       "      <td>120000</td>\n",
       "      <td>2</td>\n",
       "      <td>26</td>\n",
       "      <td>-1</td>\n",
       "      <td>2</td>\n",
       "      <td>0</td>\n",
       "      <td>0</td>\n",
       "      <td>0</td>\n",
       "      <td>2</td>\n",
       "      <td>...</td>\n",
       "      <td>0</td>\n",
       "      <td>1</td>\n",
       "      <td>0</td>\n",
       "      <td>0</td>\n",
       "      <td>0</td>\n",
       "      <td>0</td>\n",
       "      <td>0</td>\n",
       "      <td>0</td>\n",
       "      <td>1</td>\n",
       "      <td>0</td>\n",
       "    </tr>\n",
       "    <tr>\n",
       "      <th>2</th>\n",
       "      <td>3</td>\n",
       "      <td>90000</td>\n",
       "      <td>2</td>\n",
       "      <td>34</td>\n",
       "      <td>0</td>\n",
       "      <td>0</td>\n",
       "      <td>0</td>\n",
       "      <td>0</td>\n",
       "      <td>0</td>\n",
       "      <td>0</td>\n",
       "      <td>...</td>\n",
       "      <td>0</td>\n",
       "      <td>1</td>\n",
       "      <td>0</td>\n",
       "      <td>0</td>\n",
       "      <td>0</td>\n",
       "      <td>0</td>\n",
       "      <td>0</td>\n",
       "      <td>0</td>\n",
       "      <td>1</td>\n",
       "      <td>0</td>\n",
       "    </tr>\n",
       "    <tr>\n",
       "      <th>3</th>\n",
       "      <td>4</td>\n",
       "      <td>50000</td>\n",
       "      <td>2</td>\n",
       "      <td>37</td>\n",
       "      <td>0</td>\n",
       "      <td>0</td>\n",
       "      <td>0</td>\n",
       "      <td>0</td>\n",
       "      <td>0</td>\n",
       "      <td>0</td>\n",
       "      <td>...</td>\n",
       "      <td>0</td>\n",
       "      <td>1</td>\n",
       "      <td>0</td>\n",
       "      <td>0</td>\n",
       "      <td>0</td>\n",
       "      <td>0</td>\n",
       "      <td>0</td>\n",
       "      <td>1</td>\n",
       "      <td>0</td>\n",
       "      <td>0</td>\n",
       "    </tr>\n",
       "    <tr>\n",
       "      <th>4</th>\n",
       "      <td>5</td>\n",
       "      <td>50000</td>\n",
       "      <td>1</td>\n",
       "      <td>57</td>\n",
       "      <td>-1</td>\n",
       "      <td>0</td>\n",
       "      <td>-1</td>\n",
       "      <td>0</td>\n",
       "      <td>0</td>\n",
       "      <td>0</td>\n",
       "      <td>...</td>\n",
       "      <td>0</td>\n",
       "      <td>1</td>\n",
       "      <td>0</td>\n",
       "      <td>0</td>\n",
       "      <td>0</td>\n",
       "      <td>0</td>\n",
       "      <td>0</td>\n",
       "      <td>1</td>\n",
       "      <td>0</td>\n",
       "      <td>0</td>\n",
       "    </tr>\n",
       "  </tbody>\n",
       "</table>\n",
       "<p>5 rows × 34 columns</p>\n",
       "</div>"
      ],
      "text/plain": [
       "   ID  LIMIT_BAL  SEX  AGE  PAY_0  PAY_2  PAY_3  PAY_4  PAY_5  PAY_6  ...  \\\n",
       "0   1      20000    2   24      2      2     -1     -1     -2     -2  ...   \n",
       "1   2     120000    2   26     -1      2      0      0      0      2  ...   \n",
       "2   3      90000    2   34      0      0      0      0      0      0  ...   \n",
       "3   4      50000    2   37      0      0      0      0      0      0  ...   \n",
       "4   5      50000    1   57     -1      0     -1      0      0      0  ...   \n",
       "\n",
       "   EDUCATION_1  EDUCATION_2  EDUCATION_3  EDUCATION_4  EDUCATION_5  \\\n",
       "0            0            1            0            0            0   \n",
       "1            0            1            0            0            0   \n",
       "2            0            1            0            0            0   \n",
       "3            0            1            0            0            0   \n",
       "4            0            1            0            0            0   \n",
       "\n",
       "   EDUCATION_6  MARRIAGE_0  MARRIAGE_1  MARRIAGE_2  MARRIAGE_3  \n",
       "0            0           0           1           0           0  \n",
       "1            0           0           0           1           0  \n",
       "2            0           0           0           1           0  \n",
       "3            0           0           1           0           0  \n",
       "4            0           0           1           0           0  \n",
       "\n",
       "[5 rows x 34 columns]"
      ]
     },
     "execution_count": 11,
     "metadata": {},
     "output_type": "execute_result"
    }
   ],
   "source": [
    "df.head(5)"
   ]
  },
  {
   "cell_type": "markdown",
   "id": "b0d9dad9",
   "metadata": {},
   "source": [
    "## split data"
   ]
  },
  {
   "cell_type": "code",
   "execution_count": 33,
   "id": "2ecfb658",
   "metadata": {},
   "outputs": [],
   "source": [
    "np.random.seed(3)\n",
    "msk = np.random.rand(len(df)) < 0.8\n",
    "train = df[msk].reset_index()\n",
    "valid = df[~msk].reset_index()"
   ]
  },
  {
   "cell_type": "markdown",
   "id": "15c2f8fe",
   "metadata": {},
   "source": [
    "## normalize input variables"
   ]
  },
  {
   "cell_type": "code",
   "execution_count": 34,
   "id": "7be46938",
   "metadata": {},
   "outputs": [],
   "source": [
    "from sklearn.preprocessing import StandardScaler"
   ]
  },
  {
   "cell_type": "code",
   "execution_count": 35,
   "id": "42609619",
   "metadata": {},
   "outputs": [
    {
     "data": {
      "text/plain": [
       "Index(['ID', 'LIMIT_BAL', 'SEX', 'AGE', 'PAY_0', 'PAY_2', 'PAY_3', 'PAY_4',\n",
       "       'PAY_5', 'PAY_6', 'BILL_AMT1', 'BILL_AMT2', 'BILL_AMT3', 'BILL_AMT4',\n",
       "       'BILL_AMT5', 'BILL_AMT6', 'PAY_AMT1', 'PAY_AMT2', 'PAY_AMT3',\n",
       "       'PAY_AMT4', 'PAY_AMT5', 'PAY_AMT6', 'default_payment', 'EDUCATION_0',\n",
       "       'EDUCATION_1', 'EDUCATION_2', 'EDUCATION_3', 'EDUCATION_4',\n",
       "       'EDUCATION_5', 'EDUCATION_6', 'MARRIAGE_0', 'MARRIAGE_1', 'MARRIAGE_2',\n",
       "       'MARRIAGE_3'],\n",
       "      dtype='object')"
      ]
     },
     "execution_count": 35,
     "metadata": {},
     "output_type": "execute_result"
    }
   ],
   "source": [
    "df.columns"
   ]
  },
  {
   "cell_type": "code",
   "execution_count": 36,
   "id": "b26f031d",
   "metadata": {},
   "outputs": [],
   "source": [
    "X_train = train.iloc[:,:23].values\n",
    "Y_train = train['default_payment'].values\n",
    "X_val = valid.iloc[:,:23].values\n",
    "Y_val = valid['default_payment'].values"
   ]
  },
  {
   "cell_type": "code",
   "execution_count": 37,
   "id": "33c21008",
   "metadata": {},
   "outputs": [],
   "source": [
    "X_train, X_val = X_train, X_val\n",
    "# Y_train, Y_val = Y_train, Y_val\n",
    "scaler = StandardScaler()\n",
    "X_train = scaler.fit_transform(X_train)\n",
    "X_val = scaler.transform(X_val)"
   ]
  },
  {
   "cell_type": "markdown",
   "id": "dfd260d1",
   "metadata": {},
   "source": [
    "## PyTorch dataset"
   ]
  },
  {
   "cell_type": "code",
   "execution_count": 44,
   "id": "d74131fb",
   "metadata": {},
   "outputs": [],
   "source": [
    "from torch.utils.data import Dataset, DataLoader,TensorDataset"
   ]
  },
  {
   "cell_type": "code",
   "execution_count": 192,
   "id": "094a1fee",
   "metadata": {},
   "outputs": [],
   "source": [
    "tensor_x_train = torch.Tensor(X_train).float()# transform to torch tensor\n",
    "tensor_y_train = torch.Tensor(Y_train).float()\n",
    "tensor_x_val = torch.Tensor(X_val).float()# transform to torch tensor\n",
    "# tensor_y_val = torch.Tensor(Y_val).float().unsqueeze(1)\n",
    "tensor_y_val = torch.Tensor(Y_val).float()\n",
    "\n",
    "dataset_train = TensorDataset(tensor_x_train,tensor_y_train) # create your datset\n",
    "train_dataloader = DataLoader(dataset_train) # create your dataloader\n"
   ]
  },
  {
   "cell_type": "code",
   "execution_count": 177,
   "id": "a3ef2ad0",
   "metadata": {},
   "outputs": [],
   "source": [
    "dataset_val = TensorDataset(tensor_x_val,tensor_y_val) # create your datset\n",
    "val_dataloader = DataLoader(dataset_val) # create your dataloader"
   ]
  },
  {
   "cell_type": "markdown",
   "id": "73d8aa2c",
   "metadata": {},
   "source": [
    "## create data loaders"
   ]
  },
  {
   "cell_type": "code",
   "execution_count": 178,
   "id": "7d30b9ab",
   "metadata": {},
   "outputs": [],
   "source": [
    "train_dl = DataLoader(dataset_train, batch_size=1000, shuffle=True)"
   ]
  },
  {
   "cell_type": "code",
   "execution_count": 179,
   "id": "5cc6bb65",
   "metadata": {},
   "outputs": [],
   "source": [
    "val_dl = DataLoader(dataset_val, batch_size=1000, shuffle=False)"
   ]
  },
  {
   "cell_type": "markdown",
   "id": "867406d8",
   "metadata": {},
   "source": [
    "## model for logistic regression"
   ]
  },
  {
   "cell_type": "code",
   "execution_count": 180,
   "id": "65c8f34a",
   "metadata": {},
   "outputs": [],
   "source": [
    "x, y = next(iter(train_dl))"
   ]
  },
  {
   "cell_type": "code",
   "execution_count": 181,
   "id": "0696cd45",
   "metadata": {},
   "outputs": [],
   "source": [
    "model = torch.nn.Sequential(\n",
    "    torch.nn.Linear(23, 1)\n",
    ")"
   ]
  },
  {
   "cell_type": "code",
   "execution_count": 182,
   "id": "68543ba1",
   "metadata": {},
   "outputs": [],
   "source": [
    "y_hat = model(x.float())"
   ]
  },
  {
   "cell_type": "code",
   "execution_count": 183,
   "id": "13a40093",
   "metadata": {},
   "outputs": [
    {
     "data": {
      "text/plain": [
       "tensor(0.7495, grad_fn=<BinaryCrossEntropyWithLogitsBackward0>)"
      ]
     },
     "execution_count": 183,
     "metadata": {},
     "output_type": "execute_result"
    }
   ],
   "source": [
    "F.binary_cross_entropy_with_logits(y_hat, y.unsqueeze(1).float())"
   ]
  },
  {
   "cell_type": "markdown",
   "id": "e7c49d61",
   "metadata": {},
   "source": [
    "## log loss and auc-roc"
   ]
  },
  {
   "cell_type": "code",
   "execution_count": 184,
   "id": "1f0277e3",
   "metadata": {},
   "outputs": [],
   "source": [
    "from sklearn.metrics import log_loss,roc_auc_score"
   ]
  },
  {
   "cell_type": "code",
   "execution_count": 185,
   "id": "0354d16c",
   "metadata": {},
   "outputs": [],
   "source": [
    "def val_metric(model, valid_dl):\n",
    "    model.eval()\n",
    "    log_losses = []\n",
    "    y_hats = []\n",
    "    ys = []\n",
    "    for x, y in valid_dl:\n",
    "        y = y.unsqueeze(1)\n",
    "        y_hat = model(x.float())\n",
    "        loss = F.binary_cross_entropy_with_logits(y_hat, y.float())\n",
    "        y_hats.append(y_hat.flatten().detach().numpy())\n",
    "        ys.append(y.flatten().detach().numpy())\n",
    "        log_losses.append(loss.item())\n",
    "    \n",
    "    #compute the r2_score at the end, use all the batch results\n",
    "    ys = np.concatenate(ys)\n",
    "    y_hats = np.concatenate(y_hats)\n",
    "    return np.mean(log_losses), roc_auc_score(ys, y_hats)"
   ]
  },
  {
   "cell_type": "markdown",
   "id": "0202ba14",
   "metadata": {},
   "source": [
    "## training loop"
   ]
  },
  {
   "cell_type": "code",
   "execution_count": 186,
   "id": "e0d4165d",
   "metadata": {},
   "outputs": [],
   "source": [
    "def train_loop(model, train_dl, valid_dl, optimizer, epochs):\n",
    "    for i in range(epochs):\n",
    "        model.train()\n",
    "        losses = []\n",
    "        for x, y in train_dl:#each mini-batch\n",
    "            y = y.unsqueeze(1)\n",
    "            y_hat = model(x.float())\n",
    "            \n",
    "            loss = F.binary_cross_entropy_with_logits(y_hat, y.float())\n",
    "            optimizer.zero_grad()\n",
    "            loss.backward()\n",
    "            optimizer.step()\n",
    "            losses.append(loss.item())\n",
    "        \n",
    "        train_loss = np.mean(losses)\n",
    "        valid_loss, valid_auc = val_metric(model, valid_dl)\n",
    "        print(\"train loss %.3f valid loss %.3f auc %.3f\" % \n",
    "              (train_loss, valid_loss, valid_auc))"
   ]
  },
  {
   "cell_type": "markdown",
   "id": "da15d23b",
   "metadata": {},
   "source": [
    "## model training"
   ]
  },
  {
   "cell_type": "code",
   "execution_count": 188,
   "id": "26a86273",
   "metadata": {},
   "outputs": [],
   "source": [
    "model2 = torch.nn.Sequential(\n",
    "    torch.nn.Linear(23, 1),\n",
    ")"
   ]
  },
  {
   "cell_type": "code",
   "execution_count": 189,
   "id": "613ad4cb",
   "metadata": {
    "scrolled": true
   },
   "outputs": [
    {
     "name": "stdout",
     "output_type": "stream",
     "text": [
      "train loss 0.694 valid loss 0.651 auc 0.632\n",
      "train loss 0.627 valid loss 0.615 auc 0.657\n",
      "train loss 0.595 valid loss 0.588 auc 0.666\n",
      "train loss 0.566 valid loss 0.567 auc 0.675\n",
      "train loss 0.550 valid loss 0.549 auc 0.680\n",
      "train loss 0.527 valid loss 0.535 auc 0.685\n",
      "train loss 0.523 valid loss 0.523 auc 0.687\n",
      "train loss 0.509 valid loss 0.514 auc 0.689\n",
      "train loss 0.498 valid loss 0.506 auc 0.693\n",
      "train loss 0.488 valid loss 0.500 auc 0.692\n",
      "train loss 0.486 valid loss 0.495 auc 0.695\n",
      "train loss 0.484 valid loss 0.491 auc 0.696\n",
      "train loss 0.472 valid loss 0.488 auc 0.698\n",
      "train loss 0.472 valid loss 0.486 auc 0.697\n",
      "train loss 0.475 valid loss 0.484 auc 0.698\n",
      "train loss 0.474 valid loss 0.482 auc 0.700\n",
      "train loss 0.464 valid loss 0.481 auc 0.699\n",
      "train loss 0.470 valid loss 0.479 auc 0.700\n",
      "train loss 0.466 valid loss 0.479 auc 0.701\n",
      "train loss 0.464 valid loss 0.478 auc 0.699\n"
     ]
    }
   ],
   "source": [
    "learning_rate = 0.0046\n",
    "optimizer = torch.optim.Adam(model2.parameters(), lr=learning_rate)\n",
    "train_loop(model2, train_dl, val_dl, optimizer, epochs=20)"
   ]
  }
 ],
 "metadata": {
  "kernelspec": {
   "display_name": "Python 3",
   "language": "python",
   "name": "python3"
  },
  "language_info": {
   "codemirror_mode": {
    "name": "ipython",
    "version": 3
   },
   "file_extension": ".py",
   "mimetype": "text/x-python",
   "name": "python",
   "nbconvert_exporter": "python",
   "pygments_lexer": "ipython3",
   "version": "3.8.8"
  },
  "toc": {
   "base_numbering": 1,
   "nav_menu": {},
   "number_sections": true,
   "sideBar": true,
   "skip_h1_title": false,
   "title_cell": "Table of Contents",
   "title_sidebar": "Contents",
   "toc_cell": false,
   "toc_position": {},
   "toc_section_display": true,
   "toc_window_display": false
  }
 },
 "nbformat": 4,
 "nbformat_minor": 5
}
