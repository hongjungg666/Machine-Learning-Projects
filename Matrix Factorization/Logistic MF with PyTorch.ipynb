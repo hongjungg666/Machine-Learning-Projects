{
 "cells": [
  {
   "cell_type": "code",
   "execution_count": 3,
   "id": "99cea650",
   "metadata": {},
   "outputs": [],
   "source": [
    "import torch.nn as nn\n",
    "import torch.autograd as autograd\n",
    "import torch\n",
    "import pandas as pd\n",
    "from pathlib import Path\n",
    "import numpy as np\n",
    "import torch.optim as optim\n",
    "import torch.nn.functional as F\n",
    "%matplotlib inline"
   ]
  },
  {
   "cell_type": "markdown",
   "id": "3d2419c1",
   "metadata": {},
   "source": [
    "# Logistic MF with PyTorch"
   ]
  },
  {
   "cell_type": "markdown",
   "id": "b6c168bb",
   "metadata": {},
   "source": [
    "## read data"
   ]
  },
  {
   "cell_type": "code",
   "execution_count": 4,
   "id": "5744f87e",
   "metadata": {},
   "outputs": [
    {
     "data": {
      "text/plain": [
       "[PosixPath('data_hw2/default-credit-card-clients.csv'),\n",
       " PosixPath('data_hw2/train_books_ratings.csv'),\n",
       " PosixPath('data_hw2/valid_books_ratings.csv')]"
      ]
     },
     "execution_count": 4,
     "metadata": {},
     "output_type": "execute_result"
    }
   ],
   "source": [
    "PATH = Path(\"data_hw2\")\n",
    "list(PATH.iterdir())\n"
   ]
  },
  {
   "cell_type": "code",
   "execution_count": 5,
   "id": "b281fa4c",
   "metadata": {},
   "outputs": [],
   "source": [
    "train = pd.read_csv('data_hw2/train_books_ratings.csv')\n",
    "val = pd.read_csv('data_hw2/valid_books_ratings.csv')"
   ]
  },
  {
   "cell_type": "code",
   "execution_count": 6,
   "id": "def670de",
   "metadata": {},
   "outputs": [
    {
     "data": {
      "text/html": [
       "<div>\n",
       "<style scoped>\n",
       "    .dataframe tbody tr th:only-of-type {\n",
       "        vertical-align: middle;\n",
       "    }\n",
       "\n",
       "    .dataframe tbody tr th {\n",
       "        vertical-align: top;\n",
       "    }\n",
       "\n",
       "    .dataframe thead th {\n",
       "        text-align: right;\n",
       "    }\n",
       "</style>\n",
       "<table border=\"1\" class=\"dataframe\">\n",
       "  <thead>\n",
       "    <tr style=\"text-align: right;\">\n",
       "      <th></th>\n",
       "      <th>user</th>\n",
       "      <th>item</th>\n",
       "      <th>rating</th>\n",
       "      <th>timestamp</th>\n",
       "    </tr>\n",
       "  </thead>\n",
       "  <tbody>\n",
       "    <tr>\n",
       "      <th>0</th>\n",
       "      <td>A2IIIDRK3PRRZY</td>\n",
       "      <td>0000000116</td>\n",
       "      <td>0</td>\n",
       "      <td>1395619200</td>\n",
       "    </tr>\n",
       "    <tr>\n",
       "      <th>1</th>\n",
       "      <td>A9KTKY6BUR8U6</td>\n",
       "      <td>0000013714</td>\n",
       "      <td>0</td>\n",
       "      <td>1357516800</td>\n",
       "    </tr>\n",
       "    <tr>\n",
       "      <th>2</th>\n",
       "      <td>A35OP02LIXZ84E</td>\n",
       "      <td>0000477141</td>\n",
       "      <td>0</td>\n",
       "      <td>1399939200</td>\n",
       "    </tr>\n",
       "    <tr>\n",
       "      <th>3</th>\n",
       "      <td>A9WX8DK93SN5</td>\n",
       "      <td>000100039X</td>\n",
       "      <td>0</td>\n",
       "      <td>1385683200</td>\n",
       "    </tr>\n",
       "    <tr>\n",
       "      <th>4</th>\n",
       "      <td>A36JQ1WC5JQPFQ</td>\n",
       "      <td>000100039X</td>\n",
       "      <td>0</td>\n",
       "      <td>1391990400</td>\n",
       "    </tr>\n",
       "    <tr>\n",
       "      <th>...</th>\n",
       "      <td>...</td>\n",
       "      <td>...</td>\n",
       "      <td>...</td>\n",
       "      <td>...</td>\n",
       "    </tr>\n",
       "    <tr>\n",
       "      <th>1787552</th>\n",
       "      <td>A2NJYJ4NRI5BMS</td>\n",
       "      <td>1860542859</td>\n",
       "      <td>1</td>\n",
       "      <td>1218931200</td>\n",
       "    </tr>\n",
       "    <tr>\n",
       "      <th>1787553</th>\n",
       "      <td>A1D3XQC2DIT</td>\n",
       "      <td>0061703257</td>\n",
       "      <td>1</td>\n",
       "      <td>1208476800</td>\n",
       "    </tr>\n",
       "    <tr>\n",
       "      <th>1787554</th>\n",
       "      <td>A29G5X33I71N83</td>\n",
       "      <td>0615680046</td>\n",
       "      <td>1</td>\n",
       "      <td>1356393600</td>\n",
       "    </tr>\n",
       "    <tr>\n",
       "      <th>1787555</th>\n",
       "      <td>ASSJ6F0DU3YOR</td>\n",
       "      <td>1570612609</td>\n",
       "      <td>1</td>\n",
       "      <td>968371200</td>\n",
       "    </tr>\n",
       "    <tr>\n",
       "      <th>1787556</th>\n",
       "      <td>AO5037CSKAMIH</td>\n",
       "      <td>0062316869</td>\n",
       "      <td>1</td>\n",
       "      <td>1404691200</td>\n",
       "    </tr>\n",
       "  </tbody>\n",
       "</table>\n",
       "<p>1787557 rows × 4 columns</p>\n",
       "</div>"
      ],
      "text/plain": [
       "                   user        item  rating   timestamp\n",
       "0        A2IIIDRK3PRRZY  0000000116       0  1395619200\n",
       "1         A9KTKY6BUR8U6  0000013714       0  1357516800\n",
       "2        A35OP02LIXZ84E  0000477141       0  1399939200\n",
       "3          A9WX8DK93SN5  000100039X       0  1385683200\n",
       "4        A36JQ1WC5JQPFQ  000100039X       0  1391990400\n",
       "...                 ...         ...     ...         ...\n",
       "1787552  A2NJYJ4NRI5BMS  1860542859       1  1218931200\n",
       "1787553     A1D3XQC2DIT  0061703257       1  1208476800\n",
       "1787554  A29G5X33I71N83  0615680046       1  1356393600\n",
       "1787555   ASSJ6F0DU3YOR  1570612609       1   968371200\n",
       "1787556   AO5037CSKAMIH  0062316869       1  1404691200\n",
       "\n",
       "[1787557 rows x 4 columns]"
      ]
     },
     "execution_count": 6,
     "metadata": {},
     "output_type": "execute_result"
    }
   ],
   "source": [
    "train"
   ]
  },
  {
   "cell_type": "markdown",
   "id": "c6c12d70",
   "metadata": {},
   "source": [
    "## encoding data"
   ]
  },
  {
   "cell_type": "markdown",
   "id": "a0bdde9d",
   "metadata": {},
   "source": [
    "### encode user"
   ]
  },
  {
   "cell_type": "code",
   "execution_count": 7,
   "id": "9166094e",
   "metadata": {},
   "outputs": [
    {
     "data": {
      "text/plain": [
       "array(['A000096625CHSNKYTYGZN', 'A00027561NC7JTXEP3EOD',\n",
       "       'A0002802PGRRB05CR0VT', 'A00031045Q68JAQ1UYT',\n",
       "       'A00034485ZR6O60DSTB', 'A000474048I5ERWOT4F1',\n",
       "       'A000546612R3DNRC8556S', 'A00066243R8D11GEHJID0',\n",
       "       'A00069023W30DWQJNBSPS', 'A00084501WU69W4PMQJWJ',\n",
       "       'A00085162GMCAJ3DQHUMY', 'A00105581RTVW6FDVGPKJ',\n",
       "       'A0010876CNE3ILIM9HV0', 'A00109803PZJ91RLT7DPN',\n",
       "       'A001116435Y409YSMCZKW'], dtype=object)"
      ]
     },
     "execution_count": 7,
     "metadata": {},
     "output_type": "execute_result"
    }
   ],
   "source": [
    "train_user_ids = np.sort(np.unique(train.user.values))\n",
    "train_user_ids[:15]"
   ]
  },
  {
   "cell_type": "code",
   "execution_count": 8,
   "id": "3deb370c",
   "metadata": {},
   "outputs": [
    {
     "name": "stdout",
     "output_type": "stream",
     "text": [
      "1312778\n"
     ]
    }
   ],
   "source": [
    "userid2idx = {o:i for i,o in enumerate(train_user_ids)}\n",
    "num_users = len(userid2idx)\n",
    "print(num_users)"
   ]
  },
  {
   "cell_type": "code",
   "execution_count": 9,
   "id": "bafd6f02",
   "metadata": {},
   "outputs": [
    {
     "data": {
      "text/html": [
       "<div>\n",
       "<style scoped>\n",
       "    .dataframe tbody tr th:only-of-type {\n",
       "        vertical-align: middle;\n",
       "    }\n",
       "\n",
       "    .dataframe tbody tr th {\n",
       "        vertical-align: top;\n",
       "    }\n",
       "\n",
       "    .dataframe thead th {\n",
       "        text-align: right;\n",
       "    }\n",
       "</style>\n",
       "<table border=\"1\" class=\"dataframe\">\n",
       "  <thead>\n",
       "    <tr style=\"text-align: right;\">\n",
       "      <th></th>\n",
       "      <th>user</th>\n",
       "      <th>item</th>\n",
       "      <th>rating</th>\n",
       "      <th>timestamp</th>\n",
       "    </tr>\n",
       "  </thead>\n",
       "  <tbody>\n",
       "    <tr>\n",
       "      <th>0</th>\n",
       "      <td>527409</td>\n",
       "      <td>0000000116</td>\n",
       "      <td>0</td>\n",
       "      <td>1395619200</td>\n",
       "    </tr>\n",
       "    <tr>\n",
       "      <th>1</th>\n",
       "      <td>1059073</td>\n",
       "      <td>0000013714</td>\n",
       "      <td>0</td>\n",
       "      <td>1357516800</td>\n",
       "    </tr>\n",
       "    <tr>\n",
       "      <th>2</th>\n",
       "      <td>750064</td>\n",
       "      <td>0000477141</td>\n",
       "      <td>0</td>\n",
       "      <td>1399939200</td>\n",
       "    </tr>\n",
       "    <tr>\n",
       "      <th>3</th>\n",
       "      <td>1062362</td>\n",
       "      <td>000100039X</td>\n",
       "      <td>0</td>\n",
       "      <td>1385683200</td>\n",
       "    </tr>\n",
       "    <tr>\n",
       "      <th>4</th>\n",
       "      <td>758289</td>\n",
       "      <td>000100039X</td>\n",
       "      <td>0</td>\n",
       "      <td>1391990400</td>\n",
       "    </tr>\n",
       "  </tbody>\n",
       "</table>\n",
       "</div>"
      ],
      "text/plain": [
       "      user        item  rating   timestamp\n",
       "0   527409  0000000116       0  1395619200\n",
       "1  1059073  0000013714       0  1357516800\n",
       "2   750064  0000477141       0  1399939200\n",
       "3  1062362  000100039X       0  1385683200\n",
       "4   758289  000100039X       0  1391990400"
      ]
     },
     "execution_count": 9,
     "metadata": {},
     "output_type": "execute_result"
    }
   ],
   "source": [
    "train[\"user\"] = train[\"user\"].apply(lambda x: userid2idx[x])\n",
    "train.head()"
   ]
  },
  {
   "cell_type": "code",
   "execution_count": 10,
   "id": "4fb83b0e",
   "metadata": {},
   "outputs": [
    {
     "data": {
      "text/html": [
       "<div>\n",
       "<style scoped>\n",
       "    .dataframe tbody tr th:only-of-type {\n",
       "        vertical-align: middle;\n",
       "    }\n",
       "\n",
       "    .dataframe tbody tr th {\n",
       "        vertical-align: top;\n",
       "    }\n",
       "\n",
       "    .dataframe thead th {\n",
       "        text-align: right;\n",
       "    }\n",
       "</style>\n",
       "<table border=\"1\" class=\"dataframe\">\n",
       "  <thead>\n",
       "    <tr style=\"text-align: right;\">\n",
       "      <th></th>\n",
       "      <th>user</th>\n",
       "      <th>item</th>\n",
       "      <th>rating</th>\n",
       "      <th>timestamp</th>\n",
       "    </tr>\n",
       "  </thead>\n",
       "  <tbody>\n",
       "    <tr>\n",
       "      <th>0</th>\n",
       "      <td>-1</td>\n",
       "      <td>000100039X</td>\n",
       "      <td>0</td>\n",
       "      <td>1393286400</td>\n",
       "    </tr>\n",
       "    <tr>\n",
       "      <th>1</th>\n",
       "      <td>-1</td>\n",
       "      <td>000100039X</td>\n",
       "      <td>0</td>\n",
       "      <td>1371772800</td>\n",
       "    </tr>\n",
       "    <tr>\n",
       "      <th>2</th>\n",
       "      <td>-1</td>\n",
       "      <td>000100039X</td>\n",
       "      <td>0</td>\n",
       "      <td>1372118400</td>\n",
       "    </tr>\n",
       "    <tr>\n",
       "      <th>3</th>\n",
       "      <td>-1</td>\n",
       "      <td>000100039X</td>\n",
       "      <td>0</td>\n",
       "      <td>1387152000</td>\n",
       "    </tr>\n",
       "    <tr>\n",
       "      <th>4</th>\n",
       "      <td>1093526</td>\n",
       "      <td>000100039X</td>\n",
       "      <td>0</td>\n",
       "      <td>1392336000</td>\n",
       "    </tr>\n",
       "  </tbody>\n",
       "</table>\n",
       "</div>"
      ],
      "text/plain": [
       "      user        item  rating   timestamp\n",
       "0       -1  000100039X       0  1393286400\n",
       "1       -1  000100039X       0  1371772800\n",
       "2       -1  000100039X       0  1372118400\n",
       "3       -1  000100039X       0  1387152000\n",
       "4  1093526  000100039X       0  1392336000"
      ]
     },
     "execution_count": 10,
     "metadata": {},
     "output_type": "execute_result"
    }
   ],
   "source": [
    "val[\"user\"] = val[\"user\"].apply(lambda x: userid2idx.get(x, -1)) # -1 for users not in training\n",
    "val.head()"
   ]
  },
  {
   "cell_type": "code",
   "execution_count": 11,
   "id": "33a91b59",
   "metadata": {},
   "outputs": [
    {
     "data": {
      "text/html": [
       "<div>\n",
       "<style scoped>\n",
       "    .dataframe tbody tr th:only-of-type {\n",
       "        vertical-align: middle;\n",
       "    }\n",
       "\n",
       "    .dataframe tbody tr th {\n",
       "        vertical-align: top;\n",
       "    }\n",
       "\n",
       "    .dataframe thead th {\n",
       "        text-align: right;\n",
       "    }\n",
       "</style>\n",
       "<table border=\"1\" class=\"dataframe\">\n",
       "  <thead>\n",
       "    <tr style=\"text-align: right;\">\n",
       "      <th></th>\n",
       "      <th>user</th>\n",
       "      <th>item</th>\n",
       "      <th>rating</th>\n",
       "      <th>timestamp</th>\n",
       "    </tr>\n",
       "  </thead>\n",
       "  <tbody>\n",
       "    <tr>\n",
       "      <th>4</th>\n",
       "      <td>1093526</td>\n",
       "      <td>000100039X</td>\n",
       "      <td>0</td>\n",
       "      <td>1392336000</td>\n",
       "    </tr>\n",
       "    <tr>\n",
       "      <th>5</th>\n",
       "      <td>1172263</td>\n",
       "      <td>000100039X</td>\n",
       "      <td>0</td>\n",
       "      <td>1022025600</td>\n",
       "    </tr>\n",
       "    <tr>\n",
       "      <th>6</th>\n",
       "      <td>1114879</td>\n",
       "      <td>0001712772</td>\n",
       "      <td>0</td>\n",
       "      <td>1277337600</td>\n",
       "    </tr>\n",
       "    <tr>\n",
       "      <th>9</th>\n",
       "      <td>563238</td>\n",
       "      <td>0001714538</td>\n",
       "      <td>0</td>\n",
       "      <td>1367280000</td>\n",
       "    </tr>\n",
       "    <tr>\n",
       "      <th>19</th>\n",
       "      <td>6532</td>\n",
       "      <td>0002007770</td>\n",
       "      <td>0</td>\n",
       "      <td>1336867200</td>\n",
       "    </tr>\n",
       "  </tbody>\n",
       "</table>\n",
       "</div>"
      ],
      "text/plain": [
       "       user        item  rating   timestamp\n",
       "4   1093526  000100039X       0  1392336000\n",
       "5   1172263  000100039X       0  1022025600\n",
       "6   1114879  0001712772       0  1277337600\n",
       "9    563238  0001714538       0  1367280000\n",
       "19     6532  0002007770       0  1336867200"
      ]
     },
     "execution_count": 11,
     "metadata": {},
     "output_type": "execute_result"
    }
   ],
   "source": [
    "val = val[val[\"user\"] >= 0].copy()\n",
    "val.head()"
   ]
  },
  {
   "cell_type": "markdown",
   "id": "30c23134",
   "metadata": {},
   "source": [
    "### encode item"
   ]
  },
  {
   "cell_type": "code",
   "execution_count": 12,
   "id": "fa35abf4",
   "metadata": {},
   "outputs": [
    {
     "name": "stdout",
     "output_type": "stream",
     "text": [
      "659279\n"
     ]
    },
    {
     "data": {
      "text/plain": [
       "array(['0000000116', '0000013714', '0000477141', '000100039X',\n",
       "       '0001053655', '0001203010', '0001360000', '0001473123',\n",
       "       '0001473905', '0001501232', '000161102X', '0001711296',\n",
       "       '000171130X', '0001712772', '000171287X'], dtype=object)"
      ]
     },
     "execution_count": 12,
     "metadata": {},
     "output_type": "execute_result"
    }
   ],
   "source": [
    "train_item_ids = np.sort(np.unique(train.item.values))\n",
    "num_items = len(train_item_ids)\n",
    "print(num_items)\n",
    "train_item_ids[:15]"
   ]
  },
  {
   "cell_type": "code",
   "execution_count": 13,
   "id": "d51feacb",
   "metadata": {},
   "outputs": [],
   "source": [
    "item2idx = {o:i for i,o in enumerate(train_item_ids)}\n",
    "train[\"item\"] = train[\"item\"].apply(lambda x: item2idx[x])\n",
    "val[\"item\"] = val[\"item\"].apply(lambda x: item2idx.get(x, -1))"
   ]
  },
  {
   "cell_type": "code",
   "execution_count": 14,
   "id": "fb75a261",
   "metadata": {},
   "outputs": [
    {
     "data": {
      "text/html": [
       "<div>\n",
       "<style scoped>\n",
       "    .dataframe tbody tr th:only-of-type {\n",
       "        vertical-align: middle;\n",
       "    }\n",
       "\n",
       "    .dataframe tbody tr th {\n",
       "        vertical-align: top;\n",
       "    }\n",
       "\n",
       "    .dataframe thead th {\n",
       "        text-align: right;\n",
       "    }\n",
       "</style>\n",
       "<table border=\"1\" class=\"dataframe\">\n",
       "  <thead>\n",
       "    <tr style=\"text-align: right;\">\n",
       "      <th></th>\n",
       "      <th>user</th>\n",
       "      <th>item</th>\n",
       "      <th>rating</th>\n",
       "      <th>timestamp</th>\n",
       "    </tr>\n",
       "  </thead>\n",
       "  <tbody>\n",
       "    <tr>\n",
       "      <th>4</th>\n",
       "      <td>1093526</td>\n",
       "      <td>3</td>\n",
       "      <td>0</td>\n",
       "      <td>1392336000</td>\n",
       "    </tr>\n",
       "    <tr>\n",
       "      <th>5</th>\n",
       "      <td>1172263</td>\n",
       "      <td>3</td>\n",
       "      <td>0</td>\n",
       "      <td>1022025600</td>\n",
       "    </tr>\n",
       "    <tr>\n",
       "      <th>6</th>\n",
       "      <td>1114879</td>\n",
       "      <td>13</td>\n",
       "      <td>0</td>\n",
       "      <td>1277337600</td>\n",
       "    </tr>\n",
       "    <tr>\n",
       "      <th>19</th>\n",
       "      <td>6532</td>\n",
       "      <td>34</td>\n",
       "      <td>0</td>\n",
       "      <td>1336867200</td>\n",
       "    </tr>\n",
       "    <tr>\n",
       "      <th>24</th>\n",
       "      <td>416115</td>\n",
       "      <td>34</td>\n",
       "      <td>0</td>\n",
       "      <td>1390176000</td>\n",
       "    </tr>\n",
       "  </tbody>\n",
       "</table>\n",
       "</div>"
      ],
      "text/plain": [
       "       user  item  rating   timestamp\n",
       "4   1093526     3       0  1392336000\n",
       "5   1172263     3       0  1022025600\n",
       "6   1114879    13       0  1277337600\n",
       "19     6532    34       0  1336867200\n",
       "24   416115    34       0  1390176000"
      ]
     },
     "execution_count": 14,
     "metadata": {},
     "output_type": "execute_result"
    }
   ],
   "source": [
    "val = val[val[\"item\"] >= 0].copy()\n",
    "val.head()"
   ]
  },
  {
   "cell_type": "markdown",
   "id": "1365b232",
   "metadata": {},
   "source": [
    "## MF with bias"
   ]
  },
  {
   "cell_type": "code",
   "execution_count": 15,
   "id": "62fc0f7a",
   "metadata": {},
   "outputs": [],
   "source": [
    "class MF_bias(nn.Module):\n",
    "    def __init__(self, num_users, num_items, emb_size=100):\n",
    "        super(MF_bias, self).__init__()\n",
    "        self.user_emb = nn.Embedding(num_users, emb_size)\n",
    "        self.user_bias = nn.Embedding(num_users, 1)\n",
    "        self.item_emb = nn.Embedding(num_items, emb_size)\n",
    "        self.item_bias = nn.Embedding(num_items, 1)\n",
    "        # init \n",
    "        self.user_emb.weight.data.uniform_(0,0.05)\n",
    "        self.item_emb.weight.data.uniform_(0,0.05)\n",
    "        self.user_bias.weight.data.uniform_(-0.01,0.01)\n",
    "        self.item_bias.weight.data.uniform_(-0.01,0.01)\n",
    "        \n",
    "    def forward(self, u, v):\n",
    "        U = self.user_emb(u)\n",
    "        V = self.item_emb(v)\n",
    "        b_u = self.user_bias(u).squeeze()\n",
    "        b_v = self.item_bias(v).squeeze()\n",
    "        return torch.sigmoid((U*V).sum(1) +  b_u  + b_v)"
   ]
  },
  {
   "cell_type": "code",
   "execution_count": 16,
   "id": "9f8316c2",
   "metadata": {},
   "outputs": [],
   "source": [
    "def valid_loss(model):\n",
    "    model.eval()\n",
    "    users = torch.LongTensor(val.user.values) # .cuda()\n",
    "    items = torch.LongTensor(val.item.values) #.cuda()\n",
    "    ratings = torch.FloatTensor(val.rating.values) #.cuda()\n",
    "    y_hat = model(users, items)\n",
    "    loss = F.binary_cross_entropy(y_hat, ratings)\n",
    "    return loss.item()"
   ]
  },
  {
   "cell_type": "code",
   "execution_count": 17,
   "id": "1514b225",
   "metadata": {},
   "outputs": [],
   "source": [
    "def train_epocs(model, epochs=10, lr=0.01, wd=0.0):\n",
    "    optimizer = torch.optim.Adam(model.parameters(), lr=lr, weight_decay=wd)\n",
    "    for i in range(epochs):\n",
    "        model.train()\n",
    "        users = torch.LongTensor(train.user.values)  #.cuda()\n",
    "        items = torch.LongTensor(train.item.values) #.cuda()\n",
    "        ratings = torch.FloatTensor(train.rating.values)  #.cuda()\n",
    "    \n",
    "        y_hat = model(users, items)\n",
    "        loss = F.binary_cross_entropy(y_hat, ratings)\n",
    "        optimizer.zero_grad()\n",
    "        loss.backward()\n",
    "        optimizer.step()\n",
    "        testloss = valid_loss(model)\n",
    "        print(\"train loss %.3f valid loss %.3f\" % (loss.item(), testloss)) "
   ]
  },
  {
   "cell_type": "code",
   "execution_count": null,
   "id": "3bd4cb36",
   "metadata": {},
   "outputs": [],
   "source": [
    "def valid_metrics(model, valid_df):\n",
    "    \"\"\"Computes validation loss and accuracy\"\"\"\n",
    "    model.eval()\n",
    "    ### BEGIN SOLUTION\n",
    "    users = torch.LongTensor(valid_df.user.values) # .cuda()\n",
    "    items = torch.LongTensor(valid_df.item.values) #.cuda()\n",
    "    ratings = torch.FloatTensor(valid_df.rating.values) #.cuda()\n",
    "    y_hat = model(users, items)\n",
    "    valid_loss = F.binary_cross_entropy(y_hat, ratings)\n",
    "    valid_loss = valid_loss.detach().numpy()\n",
    "    valid_loss = valid_loss.item()\n",
    "    y_hat = y_hat > 0.5#tensor of true or false\n",
    "    valid_acc = (ratings == y_hat).sum().item() / ratings.size(0)\n",
    "    ### END SOLUTION\n",
    "    return valid_loss, valid_acc"
   ]
  },
  {
   "cell_type": "code",
   "execution_count": 18,
   "id": "bdd0e278",
   "metadata": {},
   "outputs": [],
   "source": [
    "model = MF_bias(num_users, num_items, emb_size=100) #.cuda()"
   ]
  },
  {
   "cell_type": "code",
   "execution_count": 19,
   "id": "81715201",
   "metadata": {},
   "outputs": [
    {
     "name": "stdout",
     "output_type": "stream",
     "text": [
      "train loss 0.694 valid loss 0.778\n",
      "train loss 0.713 valid loss 0.633\n",
      "train loss 0.618 valid loss 0.642\n",
      "train loss 0.649 valid loss 0.676\n",
      "train loss 0.685 valid loss 0.649\n",
      "train loss 0.660 valid loss 0.621\n",
      "train loss 0.630 valid loss 0.613\n",
      "train loss 0.610 valid loss 0.619\n",
      "train loss 0.603 valid loss 0.620\n",
      "train loss 0.602 valid loss 0.614\n",
      "train loss 0.603 valid loss 0.611\n",
      "train loss 0.611 valid loss 0.614\n",
      "train loss 0.622 valid loss 0.620\n",
      "train loss 0.630 valid loss 0.622\n",
      "train loss 0.631 valid loss 0.618\n"
     ]
    }
   ],
   "source": [
    "train_epocs(model, epochs=15, lr=0.12, wd=1e-5)"
   ]
  },
  {
   "cell_type": "code",
   "execution_count": 20,
   "id": "682fd2e0",
   "metadata": {},
   "outputs": [],
   "source": [
    "class MF(nn.Module):\n",
    "    def __init__(self, num_users, num_items, emb_size=100, seed=23):\n",
    "        super(MF, self).__init__()\n",
    "        torch.manual_seed(seed)\n",
    "        self.user_emb = nn.Embedding(num_users, emb_size)\n",
    "        self.user_bias = nn.Embedding(num_users, 1)\n",
    "        self.item_emb = nn.Embedding(num_items, emb_size)\n",
    "        self.item_bias = nn.Embedding(num_items, 1)\n",
    "        # init \n",
    "        self.user_emb.weight.data.uniform_(0,0.05)\n",
    "        self.item_emb.weight.data.uniform_(0,0.05)\n",
    "        self.user_bias.weight.data.uniform_(-0.01,0.01)\n",
    "        self.item_bias.weight.data.uniform_(-0.01,0.01)\n",
    "\n",
    "    def forward(self, u, v):\n",
    "        U = self.user_emb(u)\n",
    "        V = self.item_emb(v)\n",
    "        b_u = self.user_bias(u).squeeze()\n",
    "        b_v = self.item_bias(v).squeeze()\n",
    "        return torch.sigmoid((U*V).sum(1) +  b_u  + b_v)\n",
    "    \n",
    "def train_one_epoch(model, train_df, optimizer):\n",
    "    \"\"\" Trains the model for one epoch\"\"\"\n",
    "    model.train()\n",
    "    ### BEGIN SOLUTION\n",
    "    users = torch.LongTensor(train_df.user.values)  #.cuda()#64 bit int\n",
    "    items = torch.LongTensor(train_df.item.values) #.cuda()\n",
    "    ratings = torch.FloatTensor(train_df.rating.values)  #.cuda()\n",
    "    y_hat = model(users, items)\n",
    "    loss = F.binary_cross_entropy(y_hat, ratings)\n",
    "    optimizer.zero_grad()\n",
    "    loss.backward()\n",
    "    optimizer.step()\n",
    "    ### END SOLUTION\n",
    "    return loss.item()\n",
    "\n",
    "\n",
    "def valid_metrics(model, valid_df):\n",
    "    \"\"\"Computes validation loss and accuracy\"\"\"\n",
    "    model.eval()\n",
    "    ### BEGIN SOLUTION\n",
    "    users = torch.LongTensor(valid_df.user.values) # .cuda()\n",
    "    items = torch.LongTensor(valid_df.item.values) #.cuda()\n",
    "    ratings = torch.FloatTensor(valid_df.rating.values) #.cuda()\n",
    "    y_hat = model(users, items)\n",
    "    valid_loss = F.binary_cross_entropy(y_hat, ratings)\n",
    "    valid_loss = valid_loss.detach().numpy()\n",
    "    valid_loss = valid_loss.item()\n",
    "    y_hat = y_hat > 0.5#tensor of true or false\n",
    "    valid_acc = (ratings == y_hat).sum().item() / ratings.size(0)\n",
    "    ### END SOLUTION\n",
    "    return valid_loss, valid_acc\n",
    "\n",
    "\n",
    "def training(model, train_df, valid_df, epochs=10, lr=0.01, wd=0.0):\n",
    "    optimizer = torch.optim.Adam(model.parameters(), lr=lr, weight_decay=wd)\n",
    "    for i in range(epochs):\n",
    "        train_loss = train_one_epoch(model, train_df, optimizer)\n",
    "        valid_loss, valid_acc = valid_metrics(model, valid_df) \n",
    "        print(\"train loss %.3f valid loss %.3f valid acc %.3f\" % (train_loss, valid_loss, valid_acc)) \n",
    "\n"
   ]
  },
  {
   "cell_type": "code",
   "execution_count": 21,
   "id": "45be27ea",
   "metadata": {},
   "outputs": [
    {
     "ename": "TypeError",
     "evalue": "training() missing 2 required positional arguments: 'train_df' and 'valid_df'",
     "output_type": "error",
     "traceback": [
      "\u001b[0;31m---------------------------------------------------------------------------\u001b[0m",
      "\u001b[0;31mTypeError\u001b[0m                                 Traceback (most recent call last)",
      "\u001b[0;32m<ipython-input-21-512e9196a5dc>\u001b[0m in \u001b[0;36m<module>\u001b[0;34m\u001b[0m\n\u001b[0;32m----> 1\u001b[0;31m \u001b[0mtraining\u001b[0m\u001b[0;34m(\u001b[0m\u001b[0mmodel\u001b[0m\u001b[0;34m,\u001b[0m \u001b[0mepochs\u001b[0m\u001b[0;34m=\u001b[0m\u001b[0;36m15\u001b[0m\u001b[0;34m,\u001b[0m \u001b[0mlr\u001b[0m\u001b[0;34m=\u001b[0m\u001b[0;36m0.12\u001b[0m\u001b[0;34m,\u001b[0m \u001b[0mwd\u001b[0m\u001b[0;34m=\u001b[0m\u001b[0;36m1e-5\u001b[0m\u001b[0;34m)\u001b[0m\u001b[0;34m\u001b[0m\u001b[0;34m\u001b[0m\u001b[0m\n\u001b[0m",
      "\u001b[0;31mTypeError\u001b[0m: training() missing 2 required positional arguments: 'train_df' and 'valid_df'"
     ]
    }
   ],
   "source": [
    "training(model, epochs=15, lr=0.12, wd=1e-5)"
   ]
  },
  {
   "cell_type": "code",
   "execution_count": null,
   "id": "3ad84153",
   "metadata": {},
   "outputs": [],
   "source": []
  }
 ],
 "metadata": {
  "kernelspec": {
   "display_name": "Python 3",
   "language": "python",
   "name": "python3"
  },
  "language_info": {
   "codemirror_mode": {
    "name": "ipython",
    "version": 3
   },
   "file_extension": ".py",
   "mimetype": "text/x-python",
   "name": "python",
   "nbconvert_exporter": "python",
   "pygments_lexer": "ipython3",
   "version": "3.8.8"
  },
  "toc": {
   "base_numbering": 1,
   "nav_menu": {},
   "number_sections": true,
   "sideBar": true,
   "skip_h1_title": false,
   "title_cell": "Table of Contents",
   "title_sidebar": "Contents",
   "toc_cell": false,
   "toc_position": {},
   "toc_section_display": true,
   "toc_window_display": false
  }
 },
 "nbformat": 4,
 "nbformat_minor": 5
}
