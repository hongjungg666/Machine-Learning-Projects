{
 "cells": [
  {
   "cell_type": "markdown",
   "metadata": {
    "nbgrader": {
     "grade": false,
     "grade_id": "cell-c221f36c8cb8cc40",
     "locked": true,
     "schema_version": 1,
     "solution": false
    }
   },
   "source": [
    "## testing hw"
   ]
  },
  {
   "cell_type": "code",
   "execution_count": 195,
   "metadata": {},
   "outputs": [],
   "source": [
    "import numpy as np\n",
    "import pandas as pd\n",
    "from scipy import sparse\n",
    "from cf import *"
   ]
  },
  {
   "cell_type": "markdown",
   "metadata": {
    "nbgrader": {
     "grade": false,
     "grade_id": "cell-0ea2a22f6bbdabbc",
     "locked": true,
     "schema_version": 1,
     "solution": false
    }
   },
   "source": [
    "## Encoding rating data\n",
    "Here are our very small subset of fake data to get us started."
   ]
  },
  {
   "cell_type": "code",
   "execution_count": 196,
   "metadata": {},
   "outputs": [
    {
     "name": "stdout",
     "output_type": "stream",
     "text": [
      "userId,movieId,rating\r\n",
      "11,1,4\r\n",
      "11,23,5\r\n",
      "2,23,5\r\n",
      "2,4,3\r\n",
      "31,1,4\r\n",
      "31,23,4\r\n",
      "4,1,5\r\n",
      "4,3,2\r\n",
      "52,1,1\r\n",
      "52,3,4\r\n",
      "61,3,5\r\n",
      "7,23,1\r\n",
      "7,3,3\r\n"
     ]
    }
   ],
   "source": [
    "# The first row says that user 1 reated movie 11 with a score of 4\n",
    "!cat tiny_training.csv "
   ]
  },
  {
   "cell_type": "code",
   "execution_count": 197,
   "metadata": {
    "nbgrader": {
     "grade": false,
     "grade_id": "cell-20524cf964cd86f3",
     "locked": true,
     "schema_version": 1,
     "solution": false
    }
   },
   "outputs": [],
   "source": [
    "df = pd.read_csv(\"tiny_training.csv\")\n",
    "# df, num_users, num_movies = encode_data(df)"
   ]
  },
  {
   "cell_type": "code",
   "execution_count": 198,
   "metadata": {},
   "outputs": [
    {
     "data": {
      "text/html": [
       "<div>\n",
       "<style scoped>\n",
       "    .dataframe tbody tr th:only-of-type {\n",
       "        vertical-align: middle;\n",
       "    }\n",
       "\n",
       "    .dataframe tbody tr th {\n",
       "        vertical-align: top;\n",
       "    }\n",
       "\n",
       "    .dataframe thead th {\n",
       "        text-align: right;\n",
       "    }\n",
       "</style>\n",
       "<table border=\"1\" class=\"dataframe\">\n",
       "  <thead>\n",
       "    <tr style=\"text-align: right;\">\n",
       "      <th></th>\n",
       "      <th>userId</th>\n",
       "      <th>movieId</th>\n",
       "      <th>rating</th>\n",
       "    </tr>\n",
       "  </thead>\n",
       "  <tbody>\n",
       "    <tr>\n",
       "      <th>0</th>\n",
       "      <td>0</td>\n",
       "      <td>1</td>\n",
       "      <td>4</td>\n",
       "    </tr>\n",
       "    <tr>\n",
       "      <th>1</th>\n",
       "      <td>0</td>\n",
       "      <td>23</td>\n",
       "      <td>5</td>\n",
       "    </tr>\n",
       "    <tr>\n",
       "      <th>2</th>\n",
       "      <td>1</td>\n",
       "      <td>23</td>\n",
       "      <td>5</td>\n",
       "    </tr>\n",
       "    <tr>\n",
       "      <th>3</th>\n",
       "      <td>1</td>\n",
       "      <td>4</td>\n",
       "      <td>3</td>\n",
       "    </tr>\n",
       "    <tr>\n",
       "      <th>4</th>\n",
       "      <td>2</td>\n",
       "      <td>1</td>\n",
       "      <td>4</td>\n",
       "    </tr>\n",
       "    <tr>\n",
       "      <th>5</th>\n",
       "      <td>2</td>\n",
       "      <td>23</td>\n",
       "      <td>4</td>\n",
       "    </tr>\n",
       "    <tr>\n",
       "      <th>6</th>\n",
       "      <td>3</td>\n",
       "      <td>1</td>\n",
       "      <td>5</td>\n",
       "    </tr>\n",
       "    <tr>\n",
       "      <th>7</th>\n",
       "      <td>3</td>\n",
       "      <td>3</td>\n",
       "      <td>2</td>\n",
       "    </tr>\n",
       "    <tr>\n",
       "      <th>8</th>\n",
       "      <td>4</td>\n",
       "      <td>1</td>\n",
       "      <td>1</td>\n",
       "    </tr>\n",
       "    <tr>\n",
       "      <th>9</th>\n",
       "      <td>4</td>\n",
       "      <td>3</td>\n",
       "      <td>4</td>\n",
       "    </tr>\n",
       "    <tr>\n",
       "      <th>10</th>\n",
       "      <td>5</td>\n",
       "      <td>3</td>\n",
       "      <td>5</td>\n",
       "    </tr>\n",
       "    <tr>\n",
       "      <th>11</th>\n",
       "      <td>6</td>\n",
       "      <td>23</td>\n",
       "      <td>1</td>\n",
       "    </tr>\n",
       "    <tr>\n",
       "      <th>12</th>\n",
       "      <td>6</td>\n",
       "      <td>3</td>\n",
       "      <td>3</td>\n",
       "    </tr>\n",
       "  </tbody>\n",
       "</table>\n",
       "</div>"
      ],
      "text/plain": [
       "    userId  movieId  rating\n",
       "0        0        1       4\n",
       "1        0       23       5\n",
       "2        1       23       5\n",
       "3        1        4       3\n",
       "4        2        1       4\n",
       "5        2       23       4\n",
       "6        3        1       5\n",
       "7        3        3       2\n",
       "8        4        1       1\n",
       "9        4        3       4\n",
       "10       5        3       5\n",
       "11       6       23       1\n",
       "12       6        3       3"
      ]
     },
     "execution_count": 198,
     "metadata": {},
     "output_type": "execute_result"
    }
   ],
   "source": [
    "name2idx,df[\"userId\"],num_users = proc_col(df[\"userId\"])\n",
    "df"
   ]
  },
  {
   "cell_type": "code",
   "execution_count": 199,
   "metadata": {},
   "outputs": [],
   "source": [
    "def encode_data(df):\n",
    "    \"\"\"Encodes rating data with continous user and movie ids using \n",
    "    the helpful fast.ai function from above.\n",
    "    \n",
    "    Arguments:\n",
    "      train_csv: a csv file with columns user_id,movie_id,rating \n",
    "    \n",
    "    Returns:\n",
    "      df: a dataframe with the encode data\n",
    "      num_users\n",
    "      num_movies\n",
    "      \n",
    "    \"\"\"\n",
    "    ### BEGIN SOLUTION\n",
    "    name2idx,df[\"userId\"],num_users = proc_col(df[\"userId\"])\n",
    "    name2idx_2,df[\"movieId\"],num_movies = proc_col(df[\"movieId\"])\n",
    "    ### END SOLUTION\n",
    "    return df, num_users, num_movies"
   ]
  },
  {
   "cell_type": "code",
   "execution_count": 200,
   "metadata": {},
   "outputs": [
    {
     "data": {
      "text/html": [
       "<div>\n",
       "<style scoped>\n",
       "    .dataframe tbody tr th:only-of-type {\n",
       "        vertical-align: middle;\n",
       "    }\n",
       "\n",
       "    .dataframe tbody tr th {\n",
       "        vertical-align: top;\n",
       "    }\n",
       "\n",
       "    .dataframe thead th {\n",
       "        text-align: right;\n",
       "    }\n",
       "</style>\n",
       "<table border=\"1\" class=\"dataframe\">\n",
       "  <thead>\n",
       "    <tr style=\"text-align: right;\">\n",
       "      <th></th>\n",
       "      <th>userId</th>\n",
       "      <th>movieId</th>\n",
       "      <th>rating</th>\n",
       "    </tr>\n",
       "  </thead>\n",
       "  <tbody>\n",
       "    <tr>\n",
       "      <th>0</th>\n",
       "      <td>0</td>\n",
       "      <td>0</td>\n",
       "      <td>4</td>\n",
       "    </tr>\n",
       "    <tr>\n",
       "      <th>1</th>\n",
       "      <td>0</td>\n",
       "      <td>1</td>\n",
       "      <td>5</td>\n",
       "    </tr>\n",
       "    <tr>\n",
       "      <th>2</th>\n",
       "      <td>1</td>\n",
       "      <td>1</td>\n",
       "      <td>5</td>\n",
       "    </tr>\n",
       "    <tr>\n",
       "      <th>3</th>\n",
       "      <td>1</td>\n",
       "      <td>2</td>\n",
       "      <td>3</td>\n",
       "    </tr>\n",
       "    <tr>\n",
       "      <th>4</th>\n",
       "      <td>2</td>\n",
       "      <td>0</td>\n",
       "      <td>4</td>\n",
       "    </tr>\n",
       "    <tr>\n",
       "      <th>5</th>\n",
       "      <td>2</td>\n",
       "      <td>1</td>\n",
       "      <td>4</td>\n",
       "    </tr>\n",
       "    <tr>\n",
       "      <th>6</th>\n",
       "      <td>3</td>\n",
       "      <td>0</td>\n",
       "      <td>5</td>\n",
       "    </tr>\n",
       "    <tr>\n",
       "      <th>7</th>\n",
       "      <td>3</td>\n",
       "      <td>3</td>\n",
       "      <td>2</td>\n",
       "    </tr>\n",
       "    <tr>\n",
       "      <th>8</th>\n",
       "      <td>4</td>\n",
       "      <td>0</td>\n",
       "      <td>1</td>\n",
       "    </tr>\n",
       "    <tr>\n",
       "      <th>9</th>\n",
       "      <td>4</td>\n",
       "      <td>3</td>\n",
       "      <td>4</td>\n",
       "    </tr>\n",
       "    <tr>\n",
       "      <th>10</th>\n",
       "      <td>5</td>\n",
       "      <td>3</td>\n",
       "      <td>5</td>\n",
       "    </tr>\n",
       "    <tr>\n",
       "      <th>11</th>\n",
       "      <td>6</td>\n",
       "      <td>1</td>\n",
       "      <td>1</td>\n",
       "    </tr>\n",
       "    <tr>\n",
       "      <th>12</th>\n",
       "      <td>6</td>\n",
       "      <td>3</td>\n",
       "      <td>3</td>\n",
       "    </tr>\n",
       "  </tbody>\n",
       "</table>\n",
       "</div>"
      ],
      "text/plain": [
       "    userId  movieId  rating\n",
       "0        0        0       4\n",
       "1        0        1       5\n",
       "2        1        1       5\n",
       "3        1        2       3\n",
       "4        2        0       4\n",
       "5        2        1       4\n",
       "6        3        0       5\n",
       "7        3        3       2\n",
       "8        4        0       1\n",
       "9        4        3       4\n",
       "10       5        3       5\n",
       "11       6        1       1\n",
       "12       6        3       3"
      ]
     },
     "execution_count": 200,
     "metadata": {},
     "output_type": "execute_result"
    }
   ],
   "source": [
    "df, num_users, num_movies = encode_data(df)\n",
    "df"
   ]
  },
  {
   "cell_type": "code",
   "execution_count": 201,
   "metadata": {
    "nbgrader": {
     "grade": true,
     "grade_id": "cell-9f450c8da332e44a",
     "locked": true,
     "points": 1,
     "schema_version": 1,
     "solution": false
    }
   },
   "outputs": [],
   "source": [
    "assert(num_users == 7)\n"
   ]
  },
  {
   "cell_type": "code",
   "execution_count": 202,
   "metadata": {
    "nbgrader": {
     "grade": true,
     "grade_id": "cell-e2782b6d1a8b7e78",
     "locked": true,
     "points": 1,
     "schema_version": 1,
     "solution": false
    }
   },
   "outputs": [],
   "source": [
    "assert(num_movies == 4)"
   ]
  },
  {
   "cell_type": "code",
   "execution_count": 203,
   "metadata": {
    "nbgrader": {
     "grade": true,
     "grade_id": "cell-33d1f1e347947a47",
     "locked": true,
     "points": 1,
     "schema_version": 1,
     "solution": false
    }
   },
   "outputs": [],
   "source": [
    "np.testing.assert_equal(df[\"userId\"].values, np.array([0, 0, 1, 1, 2, 2, 3, 3, 4, 4, 5, 6, 6]))"
   ]
  },
  {
   "cell_type": "code",
   "execution_count": 204,
   "metadata": {
    "nbgrader": {
     "grade": true,
     "grade_id": "cell-a17fa0331b6be94d",
     "locked": true,
     "points": 2,
     "schema_version": 1,
     "solution": false
    }
   },
   "outputs": [],
   "source": [
    "np.testing.assert_equal(df[\"movieId\"].values, np.array([0, 1, 1, 2, 0, 1, 0, 3, 0, 3, 3, 1, 3]))"
   ]
  },
  {
   "cell_type": "markdown",
   "metadata": {
    "nbgrader": {
     "grade": false,
     "grade_id": "cell-72490bca925d342a",
     "locked": true,
     "schema_version": 1,
     "solution": false
    }
   },
   "source": [
    "## Initializing parameters"
   ]
  },
  {
   "cell_type": "code",
   "execution_count": 118,
   "metadata": {
    "nbgrader": {
     "grade": false,
     "grade_id": "cell-86cdf4ce1a4fb8f7",
     "locked": true,
     "schema_version": 1,
     "solution": false
    }
   },
   "outputs": [
    {
     "data": {
      "text/plain": [
       "array([[3.55790894, 4.69774849, 0.92361109, 1.58739544, 3.00593239],\n",
       "       [4.69774849, 7.44656163, 1.18135616, 2.64524868, 4.74559066],\n",
       "       [0.92361109, 1.18135616, 0.24548062, 0.34025121, 0.69616965],\n",
       "       [1.58739544, 2.64524868, 0.34025121, 1.61561   , 2.41361975],\n",
       "       [3.00593239, 4.74559066, 0.69616965, 2.41361975, 3.82505541],\n",
       "       [2.02000808, 3.29656257, 0.43174569, 2.065911  , 3.07264619],\n",
       "       [2.07691001, 3.02887291, 0.53270924, 1.02482544, 1.90251125]])"
      ]
     },
     "execution_count": 118,
     "metadata": {},
     "output_type": "execute_result"
    }
   ],
   "source": [
    "# here is an example on how the prediction matrix would look like with 7 users and 5 movies\n",
    "np.dot(create_embedings(7,3), create_embedings(5,3).transpose())"
   ]
  },
  {
   "cell_type": "markdown",
   "metadata": {
    "nbgrader": {
     "grade": false,
     "grade_id": "cell-beef892ffe04476e",
     "locked": true,
     "schema_version": 1,
     "solution": false
    }
   },
   "source": [
    "## Encoding Y as a sparse matrix\n",
    "This code helps you encode a $Y$ as a sparse matrix from the dataframe. "
   ]
  },
  {
   "cell_type": "code",
   "execution_count": 205,
   "metadata": {
    "nbgrader": {
     "grade": false,
     "grade_id": "cell-18d0b3280aeb27b0",
     "locked": true,
     "schema_version": 1,
     "solution": false
    }
   },
   "outputs": [],
   "source": [
    "df = pd.read_csv(\"tiny_training.csv\")\n",
    "df, num_users, num_movies = encode_data(df)\n",
    "Y = df2matrix(df, num_users, num_movies)"
   ]
  },
  {
   "cell_type": "code",
   "execution_count": 206,
   "metadata": {},
   "outputs": [
    {
     "name": "stdout",
     "output_type": "stream",
     "text": [
      "  (0, 0)\t4\n",
      "  (2, 0)\t4\n",
      "  (3, 0)\t5\n",
      "  (4, 0)\t1\n",
      "  (0, 1)\t5\n",
      "  (1, 1)\t5\n",
      "  (2, 1)\t4\n",
      "  (6, 1)\t1\n",
      "  (1, 2)\t3\n",
      "  (3, 3)\t2\n",
      "  (4, 3)\t4\n",
      "  (5, 3)\t5\n",
      "  (6, 3)\t3\n"
     ]
    }
   ],
   "source": [
    "print(Y)"
   ]
  },
  {
   "cell_type": "markdown",
   "metadata": {
    "nbgrader": {
     "grade": false,
     "grade_id": "cell-34b067092cd650f9",
     "locked": true,
     "schema_version": 1,
     "solution": false
    }
   },
   "source": [
    "## Calculating the cost function"
   ]
  },
  {
   "cell_type": "code",
   "execution_count": null,
   "metadata": {},
   "outputs": [],
   "source": [
    "def sparse_multiply(df, emb_user, emb_movie):\n",
    "    \"\"\" This function returns U*V^T element wise multi by R as a sparse matrix.\n",
    "    \n",
    "    It avoids creating the dense matrix U*V^T\n",
    "    \"\"\"\n",
    "    \n",
    "    df[\"Prediction\"] = np.sum(emb_user[df[\"userId\"].values]*emb_movie[df[\"movieId\"].values], axis=1)\n",
    "    return df2matrix(df, emb_user.shape[0], emb_movie.shape[0], column_name=\"Prediction\")"
   ]
  },
  {
   "cell_type": "code",
   "execution_count": 207,
   "metadata": {},
   "outputs": [
    {
     "data": {
      "text/plain": [
       "array([0, 0, 1, 1, 2, 2, 3, 3, 4, 4, 5, 6, 6])"
      ]
     },
     "execution_count": 207,
     "metadata": {},
     "output_type": "execute_result"
    }
   ],
   "source": [
    "df[\"userId\"].values"
   ]
  },
  {
   "cell_type": "code",
   "execution_count": 211,
   "metadata": {},
   "outputs": [
    {
     "data": {
      "text/plain": [
       "(7867, 3)"
      ]
     },
     "execution_count": 211,
     "metadata": {},
     "output_type": "execute_result"
    }
   ],
   "source": [
    "emb_movie.shape"
   ]
  },
  {
   "cell_type": "code",
   "execution_count": 208,
   "metadata": {},
   "outputs": [
    {
     "data": {
      "text/plain": [
       "array([[1., 1., 1.],\n",
       "       [1., 1., 1.],\n",
       "       [1., 1., 1.],\n",
       "       [1., 1., 1.],\n",
       "       [1., 1., 1.],\n",
       "       [1., 1., 1.],\n",
       "       [1., 1., 1.],\n",
       "       [1., 1., 1.],\n",
       "       [1., 1., 1.],\n",
       "       [1., 1., 1.],\n",
       "       [1., 1., 1.],\n",
       "       [1., 1., 1.],\n",
       "       [1., 1., 1.]])"
      ]
     },
     "execution_count": 208,
     "metadata": {},
     "output_type": "execute_result"
    }
   ],
   "source": [
    "emb_movie[df[\"movieId\"].values]"
   ]
  },
  {
   "cell_type": "code",
   "execution_count": 209,
   "metadata": {},
   "outputs": [
    {
     "data": {
      "text/plain": [
       "array([0, 1, 1, 2, 0, 1, 0, 3, 0, 3, 3, 1, 3])"
      ]
     },
     "execution_count": 209,
     "metadata": {},
     "output_type": "execute_result"
    }
   ],
   "source": [
    "df[\"movieId\"].values"
   ]
  },
  {
   "cell_type": "code",
   "execution_count": 194,
   "metadata": {},
   "outputs": [
    {
     "data": {
      "text/plain": [
       "(7867, 3)"
      ]
     },
     "execution_count": 194,
     "metadata": {},
     "output_type": "execute_result"
    }
   ],
   "source": [
    "emb_movie.shape"
   ]
  },
  {
   "cell_type": "code",
   "execution_count": 186,
   "metadata": {},
   "outputs": [
    {
     "data": {
      "text/plain": [
       "array([3.40885995, 2.0655048 , 0.82296001, 0.69616965, 7.15706307,\n",
       "       4.89139359, 4.74559066, 2.41361975, 4.03343148, 2.13164169,\n",
       "       3.29218077, 2.26571732, 1.561454  ])"
      ]
     },
     "execution_count": 186,
     "metadata": {},
     "output_type": "execute_result"
    }
   ],
   "source": [
    "np.sum(emb_user[df[\"userId\"].values]*emb_movie[df[\"movieId\"].values], axis=1)"
   ]
  },
  {
   "cell_type": "code",
   "execution_count": null,
   "metadata": {},
   "outputs": [],
   "source": [
    "df[\"Prediction\"] = np.sum(emb_user[df[\"userId\"].values]*emb_movie[df[\"movieId\"].values], axis=1)"
   ]
  },
  {
   "cell_type": "code",
   "execution_count": 121,
   "metadata": {},
   "outputs": [
    {
     "data": {
      "text/plain": [
       "array([3.55790894, 0.92361109, 1.58739544, 3.00593239, 4.69774849,\n",
       "       7.44656163, 1.18135616, 3.02887291, 1.18135616, 1.61561   ,\n",
       "       2.41361975, 2.065911  , 1.02482544])"
      ]
     },
     "execution_count": 121,
     "metadata": {},
     "output_type": "execute_result"
    }
   ],
   "source": [
    "sparse_multiply(df, emb_user, emb_movie).data"
   ]
  },
  {
   "cell_type": "code",
   "execution_count": 122,
   "metadata": {},
   "outputs": [],
   "source": [
    "def cost(df, emb_user, emb_movie):\n",
    "    \"\"\" Computes mean square error\n",
    "\n",
    "    First compute prediction. Prediction for user i and movie j is\n",
    "    emb_user[i]*emb_movie[j]\n",
    "\n",
    "    Arguments:\n",
    "      df: dataframe with all data or a subset of the data\n",
    "      emb_user: embedings for users\n",
    "      emb_movie: embedings for movies\n",
    "\n",
    "    Returns:\n",
    "      error(float): this is the MSE\n",
    "    \"\"\"\n",
    "    # BEGIN SOLUTION\n",
    "    prediction = sparse_multiply(df, emb_user, emb_movie).data\n",
    "    Y = df2matrix(df, nrows=emb_user.shape[0], ncols=emb_movie.shape[0]).data\n",
    "    error = np.mean((Y - prediction)**2)\n",
    "    return error"
   ]
  },
  {
   "cell_type": "code",
   "execution_count": 193,
   "metadata": {
    "nbgrader": {
     "grade": true,
     "grade_id": "cell-e7b5689049c2f45a",
     "locked": true,
     "points": 1,
     "schema_version": 1,
     "solution": false
    }
   },
   "outputs": [],
   "source": [
    "emb_user = np.ones((num_users, 3))\n",
    "emb_movie = np.ones((num_movies, 3))\n",
    "error = cost(df, emb_user, emb_movie)\n",
    "assert(np.around(error, decimals=2) == 2.23)"
   ]
  },
  {
   "cell_type": "markdown",
   "metadata": {
    "nbgrader": {
     "grade": false,
     "grade_id": "cell-eecb153a5272d90a",
     "locked": true,
     "schema_version": 1,
     "solution": false
    }
   },
   "source": [
    "## Calculating gradient"
   ]
  },
  {
   "cell_type": "code",
   "execution_count": 124,
   "metadata": {},
   "outputs": [],
   "source": [
    "def gradient(df, Y, emb_user, emb_movie):\n",
    "    \"\"\" Computes the gradient.\n",
    "    \n",
    "    First compute prediction. Prediction for user i and movie j is\n",
    "    emb_user[i]*emb_movie[j]\n",
    "    \n",
    "    Arguments:\n",
    "      df: dataframe with all data or a subset of the data\n",
    "      Y: sparse representation of df\n",
    "      emb_user: embedings for users\n",
    "      emb_movie: embedings for movies\n",
    "      \n",
    "    Returns:\n",
    "      d_emb_user\n",
    "      d_emb_movie\n",
    "    \"\"\"\n",
    "    ### BEGIN SOLUTION\n",
    "    N = df.shape[0]\n",
    "    delta = Y.toarray() - sparse_multiply(df, emb_user, emb_movie).toarray()\n",
    "    grad_user = (-2.00)/N*np.dot(delta,emb_movie)\n",
    "    grad_movie = (-2.00)/N*np.dot(delta.transpose(),emb_user)\n",
    "    ### END SOLUTION\n",
    "    return grad_user, grad_movie"
   ]
  },
  {
   "cell_type": "code",
   "execution_count": 125,
   "metadata": {},
   "outputs": [
    {
     "data": {
      "text/plain": [
       "array([[4, 5, 0, 0],\n",
       "       [0, 5, 3, 0],\n",
       "       [4, 4, 0, 0],\n",
       "       [5, 0, 0, 2],\n",
       "       [1, 0, 0, 4],\n",
       "       [0, 0, 0, 5],\n",
       "       [0, 1, 0, 3]])"
      ]
     },
     "execution_count": 125,
     "metadata": {},
     "output_type": "execute_result"
    }
   ],
   "source": [
    "df2matrix(df, emb_user.shape[0], emb_movie.shape[0]).toarray()"
   ]
  },
  {
   "cell_type": "code",
   "execution_count": 174,
   "metadata": {},
   "outputs": [],
   "source": [
    "K = 3\n",
    "emb_user = create_embedings(num_users, K)\n",
    "emb_movie = create_embedings(num_movies, K)\n",
    "Y = df2matrix(df, emb_user.shape[0], emb_movie.shape[0])\n",
    "grad_user, grad_movie = gradient(df, Y, emb_user, emb_movie)"
   ]
  },
  {
   "cell_type": "code",
   "execution_count": 127,
   "metadata": {
    "nbgrader": {
     "grade": true,
     "grade_id": "cell-a58a216f11e292b4",
     "locked": true,
     "points": 2,
     "schema_version": 1,
     "solution": false
    }
   },
   "outputs": [],
   "source": [
    "user=1\n",
    "approx = np.array([finite_difference(df, emb_user, emb_movie, ind_u=user, k=i) for i in range(K)])\n",
    "assert(np.all(np.abs(grad_user[user] - approx) < 0.0001))"
   ]
  },
  {
   "cell_type": "code",
   "execution_count": 128,
   "metadata": {
    "nbgrader": {
     "grade": true,
     "grade_id": "cell-4d60664272f913f0",
     "locked": true,
     "points": 2,
     "schema_version": 1,
     "solution": false
    }
   },
   "outputs": [],
   "source": [
    "movie=1\n",
    "approx = np.array([finite_difference(df, emb_user, emb_movie, ind_m=movie, k=i) for i in range(K)])\n",
    "assert(np.all(np.abs(grad_movie[movie] - approx) < 0.0001))"
   ]
  },
  {
   "cell_type": "markdown",
   "metadata": {
    "nbgrader": {
     "grade": false,
     "grade_id": "cell-75a83a0a289d180c",
     "locked": true,
     "schema_version": 1,
     "solution": false
    }
   },
   "source": [
    "## Gradient descent with momentum"
   ]
  },
  {
   "cell_type": "code",
   "execution_count": 131,
   "metadata": {},
   "outputs": [],
   "source": [
    "def gradient_descent(df, emb_user, emb_movie, iterations=100, learning_rate=0.01, df_val=None):\n",
    "    \"\"\" Computes gradient descent with momentum (0.9) for a number of iterations.\n",
    "    0.9 means average last 10 gradients \n",
    "    Prints training cost and validation cost (if df_val is not None) every 50 iterations.\n",
    "    \n",
    "    Returns:\n",
    "    emb_user: the trained user embedding\n",
    "    emb_movie: the trained movie embedding\n",
    "    \"\"\"\n",
    "    Y = df2matrix(df, emb_user.shape[0], emb_movie.shape[0])\n",
    "    ### BEGIN SOLUTION\n",
    "    emb_user_momen, emb_movie_momen = gradient(df, Y, emb_user, emb_movie)\n",
    "    for i in range(iterations):\n",
    "        emb_user_grad, emb_movie_grad = gradient(df, Y, emb_user, emb_movie)\n",
    "        \n",
    "        emb_user_momen = 0.9*emb_user_momen + (1-0.9)*emb_user_grad\n",
    "        emb_user = emb_user- learning_rate*emb_user_momen\n",
    "        \n",
    "        emb_movie_momen = 0.9*emb_movie_momen + (1-0.9)*emb_movie_grad\n",
    "        emb_movie = emb_movie- learning_rate*emb_movie_momen\n",
    "        \n",
    "        \n",
    "        if (i+1)%50 == 0:\n",
    "            print(\"training cost:\",cost(df, emb_user, emb_movie))\n",
    "            if df_val is None:\n",
    "                print(\"None\")\n",
    "            else: \n",
    "                print(\"validation cost:\", cost(df_val,emb_user, emb_movie))\n",
    "    \n",
    "    ### END SOLUTION\n",
    "    return emb_user, emb_movie"
   ]
  },
  {
   "cell_type": "code",
   "execution_count": 146,
   "metadata": {},
   "outputs": [],
   "source": [
    "def gradient_descent(df, emb_user, emb_movie, iterations=100, learning_rate=0.01, df_val=None):\n",
    "    \"\"\" Computes gradient descent with momentum (0.9) for a number of iterations.\n",
    "\n",
    "    Prints training cost and validation cost (if df_val is not None) every 50 iterations.\n",
    "\n",
    "    Returns:\n",
    "    emb_user: the trained user embedding\n",
    "    emb_movie: the trained movie embedding\n",
    "    \"\"\"\n",
    "    Y = df2matrix(df, emb_user.shape[0], emb_movie.shape[0])\n",
    "    # BEGIN SOLUTION\n",
    "    moment_user = 0\n",
    "    moment_movie = 0\n",
    "    for i in range(iterations):\n",
    "        grad_user, grad_movie = gradient(df, Y, emb_user, emb_movie)\n",
    "        moment_user = 0.9*moment_user + (1-0.9)*grad_user\n",
    "        moment_movie = 0.9*moment_movie + (1-0.9)*grad_movie\n",
    "        emb_user = emb_user-learning_rate*moment_user\n",
    "        emb_movie = emb_movie-learning_rate*moment_movie\n",
    "        if (i+1) % 50 == 0:\n",
    "            if df_val is None:\n",
    "                cost_train = cost(df, emb_user, emb_movie)\n",
    "                print(i+1,\"training cost:\", cost_train,\" None\")\n",
    "            else:\n",
    "                cost_train = cost(df, emb_user, emb_movie)\n",
    "                cost_val = cost(df_val, emb_user, emb_movie)\n",
    "                print(i+1,\"training cost:\", cost_train,\"validation cost:\", cost_val)\n",
    "    # END SOLUTION\n",
    "    return emb_user, emb_movie"
   ]
  },
  {
   "cell_type": "code",
   "execution_count": 147,
   "metadata": {},
   "outputs": [
    {
     "name": "stdout",
     "output_type": "stream",
     "text": [
      "50 training cost: 1.991816782983179  None\n",
      "100 training cost: 1.0551363096429935  None\n",
      "150 training cost: 0.7377729563134163  None\n",
      "200 training cost: 0.5539263202812025  None\n"
     ]
    }
   ],
   "source": [
    "emb_user = create_embedings(num_users, 3)\n",
    "emb_movie = create_embedings(num_movies, 3)\n",
    "emb_user, emb_movie = gradient_descent(df, emb_user, emb_movie, iterations=200, learning_rate=0.01)"
   ]
  },
  {
   "cell_type": "code",
   "execution_count": 148,
   "metadata": {
    "nbgrader": {
     "grade": true,
     "grade_id": "cell-d4f1184eccf7ebe0",
     "locked": true,
     "points": 2,
     "schema_version": 1,
     "solution": false
    }
   },
   "outputs": [],
   "source": [
    "train_mse = cost(df, emb_user, emb_movie)\n",
    "assert(np.around(train_mse, decimals=2) == 0.55)"
   ]
  },
  {
   "cell_type": "markdown",
   "metadata": {
    "nbgrader": {
     "grade": false,
     "grade_id": "cell-7b4ece4b4a308a5f",
     "locked": true,
     "schema_version": 1,
     "solution": false
    }
   },
   "source": [
    "## Predicting on new data\n",
    "Now we should write a function that given new data is able to predict ratings. First we write a function that encodes new data. If a new user or item is present that row should be remove. Collaborative Filtering is not good at handling new users or new items. To help with this task, you could write a an auxiliary function similar to `proc_col`."
   ]
  },
  {
   "cell_type": "code",
   "execution_count": 149,
   "metadata": {},
   "outputs": [
    {
     "data": {
      "text/html": [
       "<div>\n",
       "<style scoped>\n",
       "    .dataframe tbody tr th:only-of-type {\n",
       "        vertical-align: middle;\n",
       "    }\n",
       "\n",
       "    .dataframe tbody tr th {\n",
       "        vertical-align: top;\n",
       "    }\n",
       "\n",
       "    .dataframe thead th {\n",
       "        text-align: right;\n",
       "    }\n",
       "</style>\n",
       "<table border=\"1\" class=\"dataframe\">\n",
       "  <thead>\n",
       "    <tr style=\"text-align: right;\">\n",
       "      <th></th>\n",
       "      <th>userId</th>\n",
       "      <th>movieId</th>\n",
       "      <th>rating</th>\n",
       "      <th>Prediction</th>\n",
       "    </tr>\n",
       "  </thead>\n",
       "  <tbody>\n",
       "    <tr>\n",
       "      <th>0</th>\n",
       "      <td>0</td>\n",
       "      <td>0</td>\n",
       "      <td>4</td>\n",
       "      <td>4.586052</td>\n",
       "    </tr>\n",
       "    <tr>\n",
       "      <th>1</th>\n",
       "      <td>0</td>\n",
       "      <td>1</td>\n",
       "      <td>5</td>\n",
       "      <td>4.451704</td>\n",
       "    </tr>\n",
       "    <tr>\n",
       "      <th>2</th>\n",
       "      <td>1</td>\n",
       "      <td>1</td>\n",
       "      <td>5</td>\n",
       "      <td>5.276254</td>\n",
       "    </tr>\n",
       "    <tr>\n",
       "      <th>3</th>\n",
       "      <td>1</td>\n",
       "      <td>2</td>\n",
       "      <td>3</td>\n",
       "      <td>2.633234</td>\n",
       "    </tr>\n",
       "    <tr>\n",
       "      <th>4</th>\n",
       "      <td>2</td>\n",
       "      <td>0</td>\n",
       "      <td>4</td>\n",
       "      <td>3.921229</td>\n",
       "    </tr>\n",
       "    <tr>\n",
       "      <th>5</th>\n",
       "      <td>2</td>\n",
       "      <td>1</td>\n",
       "      <td>4</td>\n",
       "      <td>3.908405</td>\n",
       "    </tr>\n",
       "    <tr>\n",
       "      <th>6</th>\n",
       "      <td>3</td>\n",
       "      <td>0</td>\n",
       "      <td>5</td>\n",
       "      <td>3.739579</td>\n",
       "    </tr>\n",
       "    <tr>\n",
       "      <th>7</th>\n",
       "      <td>3</td>\n",
       "      <td>3</td>\n",
       "      <td>2</td>\n",
       "      <td>3.312920</td>\n",
       "    </tr>\n",
       "    <tr>\n",
       "      <th>8</th>\n",
       "      <td>4</td>\n",
       "      <td>0</td>\n",
       "      <td>1</td>\n",
       "      <td>1.883755</td>\n",
       "    </tr>\n",
       "    <tr>\n",
       "      <th>9</th>\n",
       "      <td>4</td>\n",
       "      <td>3</td>\n",
       "      <td>4</td>\n",
       "      <td>3.447729</td>\n",
       "    </tr>\n",
       "    <tr>\n",
       "      <th>10</th>\n",
       "      <td>5</td>\n",
       "      <td>3</td>\n",
       "      <td>5</td>\n",
       "      <td>4.768595</td>\n",
       "    </tr>\n",
       "    <tr>\n",
       "      <th>11</th>\n",
       "      <td>6</td>\n",
       "      <td>1</td>\n",
       "      <td>1</td>\n",
       "      <td>1.897217</td>\n",
       "    </tr>\n",
       "    <tr>\n",
       "      <th>12</th>\n",
       "      <td>6</td>\n",
       "      <td>3</td>\n",
       "      <td>3</td>\n",
       "      <td>1.963402</td>\n",
       "    </tr>\n",
       "  </tbody>\n",
       "</table>\n",
       "</div>"
      ],
      "text/plain": [
       "    userId  movieId  rating  Prediction\n",
       "0        0        0       4    4.586052\n",
       "1        0        1       5    4.451704\n",
       "2        1        1       5    5.276254\n",
       "3        1        2       3    2.633234\n",
       "4        2        0       4    3.921229\n",
       "5        2        1       4    3.908405\n",
       "6        3        0       5    3.739579\n",
       "7        3        3       2    3.312920\n",
       "8        4        0       1    1.883755\n",
       "9        4        3       4    3.447729\n",
       "10       5        3       5    4.768595\n",
       "11       6        1       1    1.897217\n",
       "12       6        3       3    1.963402"
      ]
     },
     "execution_count": 149,
     "metadata": {},
     "output_type": "execute_result"
    }
   ],
   "source": [
    "a=df['rating'].unique()\n",
    "df[df[\"rating\"].isin(a)]"
   ]
  },
  {
   "cell_type": "code",
   "execution_count": 150,
   "metadata": {},
   "outputs": [],
   "source": [
    "def proc_col_val(col,df_val,df_train):\n",
    "    \"\"\"Encodes a pandas column with values between 0 and n-1.\n",
    "     as the order of the first time a index appear\n",
    "    where n = number of unique values\n",
    "    \"\"\"\n",
    "    uniq = df_train[col].unique()\n",
    "    name2idx = {o:i for i,o in enumerate(uniq)}\n",
    "    return np.array([name2idx[x] for x in df_val[col]])"
   ]
  },
  {
   "cell_type": "code",
   "execution_count": 151,
   "metadata": {},
   "outputs": [],
   "source": [
    "def encode_new_data(df_val, df_train):\n",
    "    \"\"\" Encodes df_val with the same encoding as df_train.\n",
    "    Returns:\n",
    "    df_val: dataframe with the same encoding as df_train\n",
    "    \"\"\"\n",
    "    ### BEGIN SOLUTION\n",
    "    #filter out new_items\n",
    "    df_val = df_val[df_val[\"userId\"].isin(df_train[\"userId\"])]\n",
    "    df_val = df_val[df_val[\"movieId\"].isin(df_train[\"movieId\"])]\n",
    "    #encoding\n",
    "    df_val[\"userId\"] = proc_col_val(\"userId\",df_val,df_train)\n",
    "    df_val[\"movieId\"] = proc_col_val(\"movieId\",df_val,df_train)\n",
    "    ### END SOLUTION\n",
    "    return df_val"
   ]
  },
  {
   "cell_type": "code",
   "execution_count": 152,
   "metadata": {
    "scrolled": true
   },
   "outputs": [],
   "source": [
    "df_t = pd.read_csv(\"tiny_training.csv\")\n",
    "df_v = pd.read_csv(\"tiny_val.csv\")\n",
    "df_v = encode_new_data(df_v, df_t)"
   ]
  },
  {
   "cell_type": "code",
   "execution_count": 153,
   "metadata": {
    "nbgrader": {
     "grade": true,
     "grade_id": "cell-7f72f7f728540e68",
     "locked": true,
     "points": 1,
     "schema_version": 1,
     "solution": false
    }
   },
   "outputs": [],
   "source": [
    "assert(len(df_v.userId.unique())==2)"
   ]
  },
  {
   "cell_type": "code",
   "execution_count": 154,
   "metadata": {
    "nbgrader": {
     "grade": true,
     "grade_id": "cell-1b3ccc161bd551e7",
     "locked": true,
     "points": 1,
     "schema_version": 1,
     "solution": false
    }
   },
   "outputs": [],
   "source": [
    "assert(len(df_v) == 2)"
   ]
  },
  {
   "cell_type": "markdown",
   "metadata": {
    "nbgrader": {
     "grade": false,
     "grade_id": "cell-0033372e0e9accd9",
     "locked": true,
     "schema_version": 1,
     "solution": false
    }
   },
   "source": [
    "## Putting it all together\n",
    "For this part you should get data from here\n",
    "`wget http://files.grouplens.org/datasets/movielens/ml-latest-small.zip`"
   ]
  },
  {
   "cell_type": "code",
   "execution_count": 155,
   "metadata": {},
   "outputs": [],
   "source": [
    "# !wget http://files.grouplens.org/datasets/movielens/ml-latest-small.zip"
   ]
  },
  {
   "cell_type": "code",
   "execution_count": 156,
   "metadata": {},
   "outputs": [],
   "source": [
    "# sorting by timestamp\n",
    "path = \"ml-latest-small/\"\n",
    "data = pd.read_csv(path + \"ratings.csv\")\n",
    "data = data.sort_values(by=['timestamp'])"
   ]
  },
  {
   "cell_type": "code",
   "execution_count": 157,
   "metadata": {},
   "outputs": [
    {
     "data": {
      "text/html": [
       "<div>\n",
       "<style scoped>\n",
       "    .dataframe tbody tr th:only-of-type {\n",
       "        vertical-align: middle;\n",
       "    }\n",
       "\n",
       "    .dataframe tbody tr th {\n",
       "        vertical-align: top;\n",
       "    }\n",
       "\n",
       "    .dataframe thead th {\n",
       "        text-align: right;\n",
       "    }\n",
       "</style>\n",
       "<table border=\"1\" class=\"dataframe\">\n",
       "  <thead>\n",
       "    <tr style=\"text-align: right;\">\n",
       "      <th></th>\n",
       "      <th>userId</th>\n",
       "      <th>movieId</th>\n",
       "      <th>rating</th>\n",
       "      <th>timestamp</th>\n",
       "    </tr>\n",
       "  </thead>\n",
       "  <tbody>\n",
       "    <tr>\n",
       "      <th>66719</th>\n",
       "      <td>429</td>\n",
       "      <td>595</td>\n",
       "      <td>5.0</td>\n",
       "      <td>828124615</td>\n",
       "    </tr>\n",
       "    <tr>\n",
       "      <th>66716</th>\n",
       "      <td>429</td>\n",
       "      <td>588</td>\n",
       "      <td>5.0</td>\n",
       "      <td>828124615</td>\n",
       "    </tr>\n",
       "    <tr>\n",
       "      <th>66717</th>\n",
       "      <td>429</td>\n",
       "      <td>590</td>\n",
       "      <td>5.0</td>\n",
       "      <td>828124615</td>\n",
       "    </tr>\n",
       "    <tr>\n",
       "      <th>66718</th>\n",
       "      <td>429</td>\n",
       "      <td>592</td>\n",
       "      <td>5.0</td>\n",
       "      <td>828124615</td>\n",
       "    </tr>\n",
       "    <tr>\n",
       "      <th>66712</th>\n",
       "      <td>429</td>\n",
       "      <td>432</td>\n",
       "      <td>3.0</td>\n",
       "      <td>828124615</td>\n",
       "    </tr>\n",
       "  </tbody>\n",
       "</table>\n",
       "</div>"
      ],
      "text/plain": [
       "       userId  movieId  rating  timestamp\n",
       "66719     429      595     5.0  828124615\n",
       "66716     429      588     5.0  828124615\n",
       "66717     429      590     5.0  828124615\n",
       "66718     429      592     5.0  828124615\n",
       "66712     429      432     3.0  828124615"
      ]
     },
     "execution_count": 157,
     "metadata": {},
     "output_type": "execute_result"
    }
   ],
   "source": [
    "data.head()"
   ]
  },
  {
   "cell_type": "code",
   "execution_count": 158,
   "metadata": {},
   "outputs": [
    {
     "data": {
      "text/plain": [
       "((100836, 4), 80668)"
      ]
     },
     "execution_count": 158,
     "metadata": {},
     "output_type": "execute_result"
    }
   ],
   "source": [
    "m = int(data.shape[0]*0.8)\n",
    "data.shape, m"
   ]
  },
  {
   "cell_type": "code",
   "execution_count": 78,
   "metadata": {},
   "outputs": [
    {
     "data": {
      "text/plain": [
       "((100836, 4), 80668)"
      ]
     },
     "execution_count": 78,
     "metadata": {},
     "output_type": "execute_result"
    }
   ],
   "source": [
    "m = int(data.shape[0]*0.8)\n",
    "data.shape, m"
   ]
  },
  {
   "cell_type": "code",
   "execution_count": 159,
   "metadata": {},
   "outputs": [],
   "source": [
    "def proc_col(col):\n",
    "    \"\"\"Encodes a pandas column with values between 0 and n-1.\n",
    "     as the order of the first time a index appear\n",
    "    where n = number of unique values\n",
    "    \"\"\"\n",
    "    uniq = col.unique()\n",
    "    name2idx = {o:i for i,o in enumerate(uniq)}\n",
    "    return name2idx, np.array([name2idx[x] for x in col]), len(uniq)"
   ]
  },
  {
   "cell_type": "code",
   "execution_count": 160,
   "metadata": {},
   "outputs": [
    {
     "name": "stdout",
     "output_type": "stream",
     "text": [
      "20168 1311\n"
     ]
    }
   ],
   "source": [
    "train = data[:m].copy()\n",
    "val = data[m:].copy()\n",
    "df_train, num_users, num_movies = encode_data(train.copy())\n",
    "df_val = encode_new_data(val.copy(), train.copy())\n",
    "print(len(val), len(df_val))"
   ]
  },
  {
   "cell_type": "code",
   "execution_count": 161,
   "metadata": {},
   "outputs": [
    {
     "name": "stdout",
     "output_type": "stream",
     "text": [
      "50 training cost: 9.678300503156466 validation cost: 10.397601309202344\n",
      "100 training cost: 6.537466192555465 validation cost: 8.386523484535143\n",
      "150 training cost: 4.546684280431599 validation cost: 6.990346795261098\n",
      "200 training cost: 3.5033212064585033 validation cost: 6.148866866928117\n",
      "250 training cost: 2.856515050130016 validation cost: 5.552528874692432\n",
      "300 training cost: 2.418518126827779 validation cost: 5.072475084198574\n",
      "350 training cost: 2.1063425159680187 validation cost: 4.667197107878037\n",
      "400 training cost: 1.8748808366877387 validation cost: 4.315775355366121\n",
      "450 training cost: 1.6976210533617162 validation cost: 4.006112971431078\n",
      "500 training cost: 1.5581460435508805 validation cost: 3.7305356522521653\n",
      "550 training cost: 1.4458713206767109 validation cost: 3.483701158123081\n",
      "600 training cost: 1.353739041286662 validation cost: 3.261605315341615\n",
      "650 training cost: 1.2769004981724286 validation cost: 3.0610863831184467\n",
      "700 training cost: 1.2119324116196601 validation cost: 2.8795604193691795\n",
      "750 training cost: 1.1563560737598864 validation cost: 2.7148667189921625\n",
      "800 training cost: 1.1083346434358476 validation cost: 2.5651692528282455\n",
      "850 training cost: 1.0664780931823854 validation cost: 2.4288891510201545\n",
      "900 training cost: 1.0297146491373161 validation cost: 2.3046559375703892\n",
      "950 training cost: 0.9972041370055466 validation cost: 2.1912709515669277\n",
      "1000 training cost: 0.9682782736150625 validation cost: 2.0876791493516413\n",
      "1050 training cost: 0.9423986427116074 validation cost: 1.9929469133116915\n",
      "1100 training cost: 0.9191265195707209 validation cost: 1.9062442957066557\n",
      "1150 training cost: 0.8981007988593318 validation cost: 1.8268306101912948\n",
      "1200 training cost: 0.8790215749086844 validation cost: 1.754042594440978\n",
      "1250 training cost: 0.8616377392001884 validation cost: 1.6872845764579298\n",
      "1300 training cost: 0.8457374828981222 validation cost: 1.6260202228793594\n",
      "1350 training cost: 0.8311409338763136 validation cost: 1.5697655516283897\n",
      "1400 training cost: 0.8176943849645423 validation cost: 1.518082966746255\n",
      "1450 training cost: 0.8052657241102119 validation cost: 1.470576128716524\n",
      "1500 training cost: 0.7937407832807705 validation cost: 1.4268855147524389\n",
      "1550 training cost: 0.7830203972907835 validation cost: 1.386684554329378\n",
      "1600 training cost: 0.7730180166333602 validation cost: 1.3496762485108682\n",
      "1650 training cost: 0.7636577565554362 validation cost: 1.3155901993496926\n",
      "1700 training cost: 0.7548727925030543 validation cost: 1.2841799892982064\n",
      "1750 training cost: 0.7466040326850883 validation cost: 1.255220861188076\n",
      "1800 training cost: 0.7387990139214134 validation cost: 1.228507657705909\n",
      "1850 training cost: 0.731410978584575 validation cost: 1.2038529859564888\n",
      "1900 training cost: 0.7243980993189392 validation cost: 1.1810855780778697\n",
      "1950 training cost: 0.7177228250452039 validation cost: 1.1600488232517687\n",
      "2000 training cost: 0.7113513270477632 validation cost: 1.140599450059145\n"
     ]
    }
   ],
   "source": [
    "K = 50\n",
    "emb_user = create_embedings(num_users, K)\n",
    "emb_movie = create_embedings(num_movies, K)\n",
    "emb_user, emb_movie = gradient_descent(df_train, emb_user, emb_movie, iterations=2000,\n",
    "                                       learning_rate=1, df_val=df_val)"
   ]
  },
  {
   "cell_type": "code",
   "execution_count": 162,
   "metadata": {},
   "outputs": [
    {
     "name": "stdout",
     "output_type": "stream",
     "text": [
      "0.7113513270477632 1.140599450059145\n"
     ]
    }
   ],
   "source": [
    "train_mse = cost(df_train, emb_user, emb_movie)\n",
    "val_mse = cost(df_val, emb_user, emb_movie)\n",
    "print(train_mse, val_mse)"
   ]
  },
  {
   "cell_type": "code",
   "execution_count": 163,
   "metadata": {
    "nbgrader": {
     "grade": true,
     "grade_id": "cell-edcc7b88956c5e27",
     "locked": true,
     "points": 2,
     "schema_version": 1,
     "solution": false
    }
   },
   "outputs": [],
   "source": [
    "train_mse = cost(df_train, emb_user, emb_movie)\n",
    "assert(np.around(train_mse, decimals=2) == 0.71)"
   ]
  },
  {
   "cell_type": "code",
   "execution_count": 164,
   "metadata": {
    "nbgrader": {
     "grade": true,
     "grade_id": "cell-3638271e7060b741",
     "locked": true,
     "points": 2,
     "schema_version": 1,
     "solution": false
    }
   },
   "outputs": [],
   "source": [
    "val_mse = cost(df_val, emb_user, emb_movie)\n",
    "assert(np.around(val_mse, decimals=2) == 1.14)"
   ]
  },
  {
   "cell_type": "code",
   "execution_count": 165,
   "metadata": {},
   "outputs": [
    {
     "name": "stdout",
     "output_type": "stream",
     "text": [
      "50 training cost: 9.678300503156466 validation cost: 10.397601309202344\n",
      "100 training cost: 6.537466192555465 validation cost: 8.386523484535143\n",
      "150 training cost: 4.546684280431599 validation cost: 6.990346795261098\n",
      "200 training cost: 3.5033212064585033 validation cost: 6.148866866928117\n"
     ]
    }
   ],
   "source": [
    "K = 50\n",
    "emb_user = create_embedings(num_users, K)\n",
    "emb_movie = create_embedings(num_movies, K)\n",
    "emb_user, emb_movie = gradient_descent(df_train, emb_user, emb_movie, iterations=200, learning_rate=1, df_val=df_val)"
   ]
  },
  {
   "cell_type": "code",
   "execution_count": 166,
   "metadata": {},
   "outputs": [
    {
     "name": "stdout",
     "output_type": "stream",
     "text": [
      "3.5033212064585033 6.148866866928117\n"
     ]
    }
   ],
   "source": [
    "train_mse = cost(df_train, emb_user, emb_movie)\n",
    "val_mse = cost(df_val, emb_user, emb_movie)\n",
    "print(train_mse, val_mse)"
   ]
  },
  {
   "cell_type": "code",
   "execution_count": 167,
   "metadata": {},
   "outputs": [],
   "source": [
    "train_mse = cost(df_train, emb_user, emb_movie)\n",
    "assert(np.around(train_mse, decimals=1) == 3.5)"
   ]
  },
  {
   "cell_type": "code",
   "execution_count": 168,
   "metadata": {},
   "outputs": [],
   "source": [
    "val_mse = cost(df_val, emb_user, emb_movie)\n",
    "assert(np.around(val_mse, decimals=1) == 6.1)"
   ]
  },
  {
   "cell_type": "code",
   "execution_count": null,
   "metadata": {},
   "outputs": [],
   "source": []
  }
 ],
 "metadata": {
  "celltoolbar": "Create Assignment",
  "kernelspec": {
   "display_name": "Python 3",
   "language": "python",
   "name": "python3"
  },
  "language_info": {
   "codemirror_mode": {
    "name": "ipython",
    "version": 3
   },
   "file_extension": ".py",
   "mimetype": "text/x-python",
   "name": "python",
   "nbconvert_exporter": "python",
   "pygments_lexer": "ipython3",
   "version": "3.8.8"
  },
  "latex_envs": {
   "bibliofile": "biblio.bib",
   "cite_by": "apalike",
   "current_citInitial": 1,
   "eqLabelWithNumbers": true,
   "eqNumInitial": 0
  },
  "toc": {
   "base_numbering": 1,
   "nav_menu": {},
   "number_sections": true,
   "sideBar": true,
   "skip_h1_title": false,
   "title_cell": "Table of Contents",
   "title_sidebar": "Contents",
   "toc_cell": false,
   "toc_position": {},
   "toc_section_display": "block",
   "toc_window_display": false
  }
 },
 "nbformat": 4,
 "nbformat_minor": 2
}
